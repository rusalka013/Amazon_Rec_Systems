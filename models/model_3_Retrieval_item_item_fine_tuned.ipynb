{
  "nbformat": 4,
  "nbformat_minor": 0,
  "metadata": {
    "colab": {
      "provenance": [],
      "collapsed_sections": [],
      "toc_visible": true,
      "machine_shape": "hm"
    },
    "kernelspec": {
      "name": "python3",
      "display_name": "Python 3"
    },
    "language_info": {
      "name": "python"
    },
    "accelerator": "GPU",
    "gpuClass": "premium"
  },
  "cells": [
    {
      "cell_type": "markdown",
      "source": [
        "# Retrieval model: item-to-item fine-tuned\n",
        "\n",
        "\n"
      ],
      "metadata": {
        "id": "oVmLzgzO_qey"
      }
    },
    {
      "cell_type": "markdown",
      "source": [
        "Since our first item-item Retrieval model showed significant results on the train and test data, we would like to further fine-tine this model as the baseee one has shown signs of an overfit. The test results were by 30% less in accuracy rate on Top-10 in comparison to the train data. \n",
        "\n",
        "In order to address the overfit, we will add Dropout layer of 20% of our data and add a Dense layer with relu activation. "
      ],
      "metadata": {
        "id": "ag6ftqYHFCiE"
      }
    },
    {
      "cell_type": "markdown",
      "source": [
        "### Imports"
      ],
      "metadata": {
        "id": "_MiQ_T6U_zdZ"
      }
    },
    {
      "cell_type": "code",
      "execution_count": 1,
      "metadata": {
        "colab": {
          "base_uri": "https://localhost:8080/"
        },
        "id": "o85tAgdr_g6A",
        "outputId": "12835350-c322-4d50-e83b-a4b6b5c0e102"
      },
      "outputs": [
        {
          "output_type": "stream",
          "name": "stdout",
          "text": [
            "Looking in indexes: https://pypi.org/simple, https://us-python.pkg.dev/colab-wheels/public/simple/\n",
            "Requirement already satisfied: tensorflow in /usr/local/lib/python3.7/dist-packages (2.9.2)\n",
            "Requirement already satisfied: tensorflow-io-gcs-filesystem>=0.23.1 in /usr/local/lib/python3.7/dist-packages (from tensorflow) (0.27.0)\n",
            "Requirement already satisfied: astunparse>=1.6.0 in /usr/local/lib/python3.7/dist-packages (from tensorflow) (1.6.3)\n",
            "Requirement already satisfied: h5py>=2.9.0 in /usr/local/lib/python3.7/dist-packages (from tensorflow) (3.1.0)\n",
            "Requirement already satisfied: gast<=0.4.0,>=0.2.1 in /usr/local/lib/python3.7/dist-packages (from tensorflow) (0.4.0)\n",
            "Requirement already satisfied: keras<2.10.0,>=2.9.0rc0 in /usr/local/lib/python3.7/dist-packages (from tensorflow) (2.9.0)\n",
            "Requirement already satisfied: tensorflow-estimator<2.10.0,>=2.9.0rc0 in /usr/local/lib/python3.7/dist-packages (from tensorflow) (2.9.0)\n",
            "Requirement already satisfied: numpy>=1.20 in /usr/local/lib/python3.7/dist-packages (from tensorflow) (1.21.6)\n",
            "Requirement already satisfied: wrapt>=1.11.0 in /usr/local/lib/python3.7/dist-packages (from tensorflow) (1.14.1)\n",
            "Requirement already satisfied: tensorboard<2.10,>=2.9 in /usr/local/lib/python3.7/dist-packages (from tensorflow) (2.9.1)\n",
            "Requirement already satisfied: flatbuffers<2,>=1.12 in /usr/local/lib/python3.7/dist-packages (from tensorflow) (1.12)\n",
            "Requirement already satisfied: opt-einsum>=2.3.2 in /usr/local/lib/python3.7/dist-packages (from tensorflow) (3.3.0)\n",
            "Requirement already satisfied: keras-preprocessing>=1.1.1 in /usr/local/lib/python3.7/dist-packages (from tensorflow) (1.1.2)\n",
            "Requirement already satisfied: typing-extensions>=3.6.6 in /usr/local/lib/python3.7/dist-packages (from tensorflow) (4.1.1)\n",
            "Requirement already satisfied: six>=1.12.0 in /usr/local/lib/python3.7/dist-packages (from tensorflow) (1.15.0)\n",
            "Requirement already satisfied: grpcio<2.0,>=1.24.3 in /usr/local/lib/python3.7/dist-packages (from tensorflow) (1.49.1)\n",
            "Requirement already satisfied: termcolor>=1.1.0 in /usr/local/lib/python3.7/dist-packages (from tensorflow) (2.0.1)\n",
            "Requirement already satisfied: packaging in /usr/local/lib/python3.7/dist-packages (from tensorflow) (21.3)\n",
            "Requirement already satisfied: protobuf<3.20,>=3.9.2 in /usr/local/lib/python3.7/dist-packages (from tensorflow) (3.17.3)\n",
            "Requirement already satisfied: absl-py>=1.0.0 in /usr/local/lib/python3.7/dist-packages (from tensorflow) (1.3.0)\n",
            "Requirement already satisfied: setuptools in /usr/local/lib/python3.7/dist-packages (from tensorflow) (57.4.0)\n",
            "Requirement already satisfied: libclang>=13.0.0 in /usr/local/lib/python3.7/dist-packages (from tensorflow) (14.0.6)\n",
            "Requirement already satisfied: google-pasta>=0.1.1 in /usr/local/lib/python3.7/dist-packages (from tensorflow) (0.2.0)\n",
            "Requirement already satisfied: wheel<1.0,>=0.23.0 in /usr/local/lib/python3.7/dist-packages (from astunparse>=1.6.0->tensorflow) (0.37.1)\n",
            "Requirement already satisfied: cached-property in /usr/local/lib/python3.7/dist-packages (from h5py>=2.9.0->tensorflow) (1.5.2)\n",
            "Requirement already satisfied: tensorboard-data-server<0.7.0,>=0.6.0 in /usr/local/lib/python3.7/dist-packages (from tensorboard<2.10,>=2.9->tensorflow) (0.6.1)\n",
            "Requirement already satisfied: markdown>=2.6.8 in /usr/local/lib/python3.7/dist-packages (from tensorboard<2.10,>=2.9->tensorflow) (3.4.1)\n",
            "Requirement already satisfied: requests<3,>=2.21.0 in /usr/local/lib/python3.7/dist-packages (from tensorboard<2.10,>=2.9->tensorflow) (2.23.0)\n",
            "Requirement already satisfied: google-auth<3,>=1.6.3 in /usr/local/lib/python3.7/dist-packages (from tensorboard<2.10,>=2.9->tensorflow) (1.35.0)\n",
            "Requirement already satisfied: werkzeug>=1.0.1 in /usr/local/lib/python3.7/dist-packages (from tensorboard<2.10,>=2.9->tensorflow) (1.0.1)\n",
            "Requirement already satisfied: tensorboard-plugin-wit>=1.6.0 in /usr/local/lib/python3.7/dist-packages (from tensorboard<2.10,>=2.9->tensorflow) (1.8.1)\n",
            "Requirement already satisfied: google-auth-oauthlib<0.5,>=0.4.1 in /usr/local/lib/python3.7/dist-packages (from tensorboard<2.10,>=2.9->tensorflow) (0.4.6)\n",
            "Requirement already satisfied: rsa<5,>=3.1.4 in /usr/local/lib/python3.7/dist-packages (from google-auth<3,>=1.6.3->tensorboard<2.10,>=2.9->tensorflow) (4.9)\n",
            "Requirement already satisfied: cachetools<5.0,>=2.0.0 in /usr/local/lib/python3.7/dist-packages (from google-auth<3,>=1.6.3->tensorboard<2.10,>=2.9->tensorflow) (4.2.4)\n",
            "Requirement already satisfied: pyasn1-modules>=0.2.1 in /usr/local/lib/python3.7/dist-packages (from google-auth<3,>=1.6.3->tensorboard<2.10,>=2.9->tensorflow) (0.2.8)\n",
            "Requirement already satisfied: requests-oauthlib>=0.7.0 in /usr/local/lib/python3.7/dist-packages (from google-auth-oauthlib<0.5,>=0.4.1->tensorboard<2.10,>=2.9->tensorflow) (1.3.1)\n",
            "Requirement already satisfied: importlib-metadata>=4.4 in /usr/local/lib/python3.7/dist-packages (from markdown>=2.6.8->tensorboard<2.10,>=2.9->tensorflow) (4.13.0)\n",
            "Requirement already satisfied: zipp>=0.5 in /usr/local/lib/python3.7/dist-packages (from importlib-metadata>=4.4->markdown>=2.6.8->tensorboard<2.10,>=2.9->tensorflow) (3.9.0)\n",
            "Requirement already satisfied: pyasn1<0.5.0,>=0.4.6 in /usr/local/lib/python3.7/dist-packages (from pyasn1-modules>=0.2.1->google-auth<3,>=1.6.3->tensorboard<2.10,>=2.9->tensorflow) (0.4.8)\n",
            "Requirement already satisfied: urllib3!=1.25.0,!=1.25.1,<1.26,>=1.21.1 in /usr/local/lib/python3.7/dist-packages (from requests<3,>=2.21.0->tensorboard<2.10,>=2.9->tensorflow) (1.24.3)\n",
            "Requirement already satisfied: chardet<4,>=3.0.2 in /usr/local/lib/python3.7/dist-packages (from requests<3,>=2.21.0->tensorboard<2.10,>=2.9->tensorflow) (3.0.4)\n",
            "Requirement already satisfied: idna<3,>=2.5 in /usr/local/lib/python3.7/dist-packages (from requests<3,>=2.21.0->tensorboard<2.10,>=2.9->tensorflow) (2.10)\n",
            "Requirement already satisfied: certifi>=2017.4.17 in /usr/local/lib/python3.7/dist-packages (from requests<3,>=2.21.0->tensorboard<2.10,>=2.9->tensorflow) (2022.9.24)\n",
            "Requirement already satisfied: oauthlib>=3.0.0 in /usr/local/lib/python3.7/dist-packages (from requests-oauthlib>=0.7.0->google-auth-oauthlib<0.5,>=0.4.1->tensorboard<2.10,>=2.9->tensorflow) (3.2.1)\n",
            "Requirement already satisfied: pyparsing!=3.0.5,>=2.0.2 in /usr/local/lib/python3.7/dist-packages (from packaging->tensorflow) (3.0.9)\n"
          ]
        }
      ],
      "source": [
        "! pip install tensorflow"
      ]
    },
    {
      "cell_type": "code",
      "source": [
        "! pip install -q tensorflow-recommenders\n",
        "! pip install -q --upgrade tensorflow-datasets\n",
        "! pip install -q scann"
      ],
      "metadata": {
        "id": "lIhCpdSdA0Ww",
        "colab": {
          "base_uri": "https://localhost:8080/"
        },
        "outputId": "416a376e-477e-4b35-e2e2-5415cb3c510e"
      },
      "execution_count": 2,
      "outputs": [
        {
          "output_type": "stream",
          "name": "stdout",
          "text": [
            "\u001b[K     |████████████████████████████████| 89 kB 3.7 MB/s \n",
            "\u001b[K     |████████████████████████████████| 4.7 MB 4.8 MB/s \n",
            "\u001b[K     |████████████████████████████████| 10.4 MB 4.7 MB/s \n",
            "\u001b[K     |████████████████████████████████| 578.0 MB 13 kB/s \n",
            "\u001b[K     |████████████████████████████████| 1.7 MB 75.7 MB/s \n",
            "\u001b[K     |████████████████████████████████| 5.9 MB 64.8 MB/s \n",
            "\u001b[K     |████████████████████████████████| 438 kB 81.7 MB/s \n",
            "\u001b[?25h"
          ]
        }
      ]
    },
    {
      "cell_type": "code",
      "source": [
        "import os\n",
        "import pprint\n",
        "import tempfile\n",
        "\n",
        "from typing import Dict, Text\n",
        "\n",
        "import numpy as np\n",
        "import pandas as pd\n",
        "import matplotlib.pyplot as plt\n",
        "import seaborn as sns\n",
        "\n",
        "import tensorflow as tf\n",
        "import tensorflow_datasets as tfds\n",
        "from tensorflow import keras\n",
        "from tensorflow.keras import layers\n",
        "import tensorflow_recommenders as tfrs\n",
        "\n",
        "# import interactive table \n",
        "from google.colab import data_table\n",
        "data_table.enable_dataframe_formatter()\n",
        "\n",
        "# set seed\n",
        "tf.random.set_seed(42)"
      ],
      "metadata": {
        "id": "fnw0ieejA3R9"
      },
      "execution_count": 3,
      "outputs": []
    },
    {
      "cell_type": "markdown",
      "source": [
        "### Preparing the dataset"
      ],
      "metadata": {
        "id": "NwLQgvvpELbt"
      }
    },
    {
      "cell_type": "code",
      "source": [
        "# mount G-Drive and load data\n",
        "from google.colab import drive\n",
        "drive.mount('/content/drive')\n",
        "\n",
        "# load data subset \n",
        "gdrive_path = '/content/drive/MyDrive/ModelingData'\n",
        "path = os.path.join(gdrive_path, \"ratings\")\n",
        "\n",
        "ratings = tf.data.Dataset.load(path)"
      ],
      "metadata": {
        "colab": {
          "base_uri": "https://localhost:8080/"
        },
        "id": "rRcZpstIBCHO",
        "outputId": "88cecba9-84d4-4794-d5ea-e9deb47e4ca5"
      },
      "execution_count": 4,
      "outputs": [
        {
          "output_type": "stream",
          "name": "stdout",
          "text": [
            "Mounted at /content/drive\n"
          ]
        }
      ]
    },
    {
      "cell_type": "code",
      "source": [
        "# Select the basic features.\n",
        "\n",
        "products = ratings.map(lambda x: x['data']['product_title'])"
      ],
      "metadata": {
        "id": "QIjRO75CB-PJ"
      },
      "execution_count": 5,
      "outputs": []
    },
    {
      "cell_type": "code",
      "source": [
        "# train-test split\n",
        "tf.random.set_seed(42)\n",
        "shuffled = ratings.shuffle(92_096, seed=42, reshuffle_each_iteration=False)\n",
        "\n",
        "train = shuffled.take(92_096)\n",
        "test = shuffled.skip(92_096).take(23_024)"
      ],
      "metadata": {
        "id": "f8BJNQgUC1DK"
      },
      "execution_count": 6,
      "outputs": []
    },
    {
      "cell_type": "code",
      "source": [
        "# vocabulary to map raw feature values to embedding vectors\n",
        "product_titles = products.batch(50_000)\n",
        "unique_product_titles = np.unique(np.concatenate(list(product_titles)))\n",
        "\n",
        "unique_product_titles[:10]"
      ],
      "metadata": {
        "colab": {
          "base_uri": "https://localhost:8080/"
        },
        "id": "l3JIJg69C1-E",
        "outputId": "1f4f2bca-aeb1-4bcd-e4b8-afa215465d7b"
      },
      "execution_count": 7,
      "outputs": [
        {
          "output_type": "execute_result",
          "data": {
            "text/plain": [
              "array([b'! Set 7 Colors Small S Replacement Bands + 1pc Free Small Grey Band With Clasp for Fitbit FLEX Only /No tracker/ 1pc Teal (Blue/Grey) 1pc Purple / Pink 1pc Red (Tangerine) 1pc Green 1pc Slate (Blue/Grey) 1pc Black 1pc Navy (Blue) Bands Wireless Activity Bracelet Sport Wristband Fit Bit Flex Bracelet Sport Arm Band Armband',\n",
              "       b'! Small S 1pc Green 1pc Teal (Blue/Green) 1pc Red (Tangerine) Replacement Bands + 1pc Free Small Grey Band With Clasp for Fitbit FLEX Only /No tracker/ Wireless Activity Bracelet Sport Wristband Fit Bit Flex Bracelet Sport Arm Band Armband',\n",
              "       b'! Small S 1pc Teal (Blue/Green) 1pc Purple / Pink Replacement Bands + 1pc Free Small Grey Band With Clasp for Fitbit FLEX Only /No tracker/ Wireless Activity Bracelet Sport Wristband Fit Bit Flex Bracelet Sport Arm Band Armband',\n",
              "       b'\"\"\"SEASON SPECIAL\"\"\"THE ORIGINAL HEAVY DUTY BIG GRIZZLY COT-HEAVY DUTY QUALITY w/ IPHONE Holder & Drink Holder-High Quality Product-10 YEARS WARRANTY-84\\xe2\\x80\\x9d L x 32\\xe2\\x80\\x9d W x 9\\xe2\\x80\\x9d H ---A BONUS SOLAR RECHARGEABLE LED FLASHLIGHT INCLUDED WITH YOUR COT...280 LBS. MAX WEIGHT CAPACITY',\n",
              "       b'\"\"\"SEASON SPECIAL\"\"HEAVY-DUTY OASIS MARINE CHAIR W/ UNIQUE NON-SKID DESIGN-Side Table & Cup Holder-5 Years Warranty-',\n",
              "       b'\"\"SEASON SPECIAL\"\"NEW & IMPROVED!! HEAVY-DUTY OVERSIZE Oasis COOL CHAIR-TOP OF THE LINE CONSTRUCTION- 10 YEARS WARRANTY-A BONUS SOLAR RECHARGEABLE LED FLASHLIGHT INCLUDED WITH YOUR PURCHASE....BUY TWO CHAIRS AND RECEIVE A BONUS COOLER BAG!!!',\n",
              "       b'\"Biker Chick\" Gremlin Bell',\n",
              "       b'\"Bomber Irie Bomb Floating Sunglasses',\n",
              "       b'\"Candy Apple Red\" Zippo Lighter Gift Set',\n",
              "       b'\"Chasing the Lotus\" Surfing DVD'], dtype=object)"
            ]
          },
          "metadata": {},
          "execution_count": 7
        }
      ]
    },
    {
      "cell_type": "code",
      "source": [
        "# dimensionality of the query and candidate representations:\n",
        "embedding_dimension = 64"
      ],
      "metadata": {
        "id": "aSDd1BCHC9QE"
      },
      "execution_count": 8,
      "outputs": []
    },
    {
      "cell_type": "markdown",
      "source": [
        "### Implementing the model"
      ],
      "metadata": {
        "id": "AhDB5nExETmB"
      }
    },
    {
      "cell_type": "code",
      "source": [
        "# create product model to be used as both query and candidate models with Dropout rate of 20% and additional layer of relu activation. \n",
        "product_model = tf.keras.Sequential([\n",
        "  tf.keras.layers.StringLookup(\n",
        "      vocabulary=unique_product_titles, mask_token=None),\n",
        "  tf.keras.layers.Embedding(len(unique_product_titles) + 1, embedding_dimension),\n",
        "  tf.keras.layers.Dropout(0.2),\n",
        "  tf.keras.layers.Dense(32, activation = 'relu')\n",
        "])"
      ],
      "metadata": {
        "id": "mhbc3bfkDApK"
      },
      "execution_count": 9,
      "outputs": []
    },
    {
      "cell_type": "code",
      "source": [
        "# define metric\n",
        "metrics = tfrs.metrics.FactorizedTopK(\n",
        "  candidates=products.batch(128).map(product_model)\n",
        ")"
      ],
      "metadata": {
        "id": "8APMUVUWDGbh"
      },
      "execution_count": 47,
      "outputs": []
    },
    {
      "cell_type": "code",
      "source": [
        "# define task\n",
        "task = tfrs.tasks.Retrieval(\n",
        "  metrics=metrics\n",
        ")"
      ],
      "metadata": {
        "id": "7bQpvV47DHH1"
      },
      "execution_count": 11,
      "outputs": []
    },
    {
      "cell_type": "code",
      "source": [
        "# create a model based on TensorFlow Recommenders Model class\n",
        "class AmazonModel(tfrs.Model):\n",
        "\n",
        "  def __init__(self, user_model, product_model):\n",
        "    super().__init__()\n",
        "    self.product_model: tf.keras.Model = product_model\n",
        "    self.user_model: tf.keras.Model = product_model\n",
        "    self.task: tf.keras.layers.Layer = task\n",
        "\n",
        "  def compute_loss(self, features: Dict[Text, tf.Tensor], training=False) -> tf.Tensor:\n",
        "    # We pick out the user features and pass them into the user model.\n",
        "    product_embeddings = self.product_model(features['data'][\"product_title\"])\n",
        "    # And pick out the product features and pass them into the product model,\n",
        "    # getting embeddings back.\n",
        "    positive_product_embeddings = self.product_model(features['data'][\"product_title\"])\n",
        "\n",
        "    # The task computes the loss and the metrics.\n",
        "    return self.task(product_embeddings, positive_product_embeddings)"
      ],
      "metadata": {
        "id": "T3hXFsX-DJtE"
      },
      "execution_count": 49,
      "outputs": []
    },
    {
      "cell_type": "code",
      "source": [
        "# initiate model\n",
        "item_item_model_2 = AmazonModel(product_model, product_model)\n",
        "item_item_model_2.compile(optimizer=tf.keras.optimizers.Adagrad(learning_rate=0.1))"
      ],
      "metadata": {
        "id": "sDVi3bsnDofr"
      },
      "execution_count": 50,
      "outputs": []
    },
    {
      "cell_type": "markdown",
      "source": [
        "### Fitting and Evaluating the model"
      ],
      "metadata": {
        "id": "qSlGjId6Es8N"
      }
    },
    {
      "cell_type": "code",
      "source": [
        "# shuffle, batch, and cache train and test data\n",
        "cached_train = train.shuffle(100_000).batch(8192).cache()\n",
        "cached_test = test.batch(4096).cache()"
      ],
      "metadata": {
        "id": "v6uN8Xm4O-Df"
      },
      "execution_count": 14,
      "outputs": []
    },
    {
      "cell_type": "code",
      "source": [
        "# train the model\n",
        "item_item_model_2.fit(cached_train, epochs = 5)"
      ],
      "metadata": {
        "colab": {
          "base_uri": "https://localhost:8080/"
        },
        "id": "X5-ef2mYPHNo",
        "outputId": "e0f6e496-3541-4d1b-86f9-5d3930322742"
      },
      "execution_count": 15,
      "outputs": [
        {
          "output_type": "stream",
          "name": "stdout",
          "text": [
            "Epoch 1/5\n",
            "12/12 [==============================] - 134s 10s/step - factorized_top_k/top_1_categorical_accuracy: 0.0999 - factorized_top_k/top_5_categorical_accuracy: 0.1012 - factorized_top_k/top_10_categorical_accuracy: 0.1111 - factorized_top_k/top_50_categorical_accuracy: 0.1739 - factorized_top_k/top_100_categorical_accuracy: 0.2065 - loss: 49788.5066 - regularization_loss: 0.0000e+00 - total_loss: 49788.5066\n",
            "Epoch 2/5\n",
            "12/12 [==============================] - 126s 11s/step - factorized_top_k/top_1_categorical_accuracy: 0.2515 - factorized_top_k/top_5_categorical_accuracy: 0.2935 - factorized_top_k/top_10_categorical_accuracy: 0.3544 - factorized_top_k/top_50_categorical_accuracy: 0.5362 - factorized_top_k/top_100_categorical_accuracy: 0.5805 - loss: 28180.6046 - regularization_loss: 0.0000e+00 - total_loss: 28180.6046\n",
            "Epoch 3/5\n",
            "12/12 [==============================] - 123s 10s/step - factorized_top_k/top_1_categorical_accuracy: 0.3269 - factorized_top_k/top_5_categorical_accuracy: 0.3864 - factorized_top_k/top_10_categorical_accuracy: 0.4767 - factorized_top_k/top_50_categorical_accuracy: 0.6503 - factorized_top_k/top_100_categorical_accuracy: 0.6918 - loss: 15935.5139 - regularization_loss: 0.0000e+00 - total_loss: 15935.5139\n",
            "Epoch 4/5\n",
            "12/12 [==============================] - 124s 10s/step - factorized_top_k/top_1_categorical_accuracy: 0.2040 - factorized_top_k/top_5_categorical_accuracy: 0.4814 - factorized_top_k/top_10_categorical_accuracy: 0.6516 - factorized_top_k/top_50_categorical_accuracy: 0.9046 - factorized_top_k/top_100_categorical_accuracy: 0.9507 - loss: 3937.4234 - regularization_loss: 0.0000e+00 - total_loss: 3937.4234\n",
            "Epoch 5/5\n",
            "12/12 [==============================] - 124s 10s/step - factorized_top_k/top_1_categorical_accuracy: 0.2052 - factorized_top_k/top_5_categorical_accuracy: 0.5419 - factorized_top_k/top_10_categorical_accuracy: 0.6956 - factorized_top_k/top_50_categorical_accuracy: 0.9323 - factorized_top_k/top_100_categorical_accuracy: 0.9746 - loss: 3285.7677 - regularization_loss: 0.0000e+00 - total_loss: 3285.7677\n"
          ]
        },
        {
          "output_type": "execute_result",
          "data": {
            "text/plain": [
              "<keras.callbacks.History at 0x7f72d032bd50>"
            ]
          },
          "metadata": {},
          "execution_count": 15
        }
      ]
    },
    {
      "cell_type": "code",
      "source": [
        "# evaluate model\n",
        "item_item_model_2.evaluate(cached_test, return_dict=True)"
      ],
      "metadata": {
        "colab": {
          "base_uri": "https://localhost:8080/"
        },
        "id": "pte8CcF5PL8f",
        "outputId": "a5975c5f-1587-41ed-cf16-68eadb666c9a"
      },
      "execution_count": 16,
      "outputs": [
        {
          "output_type": "stream",
          "name": "stdout",
          "text": [
            "6/6 [==============================] - 45s 7s/step - factorized_top_k/top_1_categorical_accuracy: 0.3628 - factorized_top_k/top_5_categorical_accuracy: 0.4931 - factorized_top_k/top_10_categorical_accuracy: 0.5757 - factorized_top_k/top_50_categorical_accuracy: 0.6792 - factorized_top_k/top_100_categorical_accuracy: 0.6987 - loss: 10905.0732 - regularization_loss: 0.0000e+00 - total_loss: 10905.0732\n"
          ]
        },
        {
          "output_type": "execute_result",
          "data": {
            "text/plain": [
              "{'factorized_top_k/top_1_categorical_accuracy': 0.36275190114974976,\n",
              " 'factorized_top_k/top_5_categorical_accuracy': 0.4930507242679596,\n",
              " 'factorized_top_k/top_10_categorical_accuracy': 0.5757470726966858,\n",
              " 'factorized_top_k/top_50_categorical_accuracy': 0.6792477369308472,\n",
              " 'factorized_top_k/top_100_categorical_accuracy': 0.6987491250038147,\n",
              " 'loss': 7184.37353515625,\n",
              " 'regularization_loss': 0,\n",
              " 'total_loss': 7184.37353515625}"
            ]
          },
          "metadata": {},
          "execution_count": 16
        }
      ]
    },
    {
      "cell_type": "markdown",
      "source": [
        "Fine-tuned Item-to-item model is performing better in comparison to item-to-item model. The overfitting is not as significant as it was. The training accuracy for Top-10 is 69% vs 57% on testing. Our current model also performs much better on Top-1 categorical accuracy: 36% on the test vs 20.5% on the train."
      ],
      "metadata": {
        "id": "-BS6odru-kMb"
      }
    },
    {
      "cell_type": "markdown",
      "source": [
        "### Serving and saving the model"
      ],
      "metadata": {
        "id": "UOf-5v7wFhzL"
      }
    },
    {
      "cell_type": "code",
      "source": [
        "# recommending Top-10 products for customer 52228204\n",
        "\n",
        "# Create a item_item_model_2 that takes in raw query features, and\n",
        "brute_force = tfrs.layers.factorized_top_k.BruteForce(item_item_model_2.product_model)\n",
        "# recommends products out of the entire products dataset.\n",
        "brute_force.index_from_dataset(\n",
        "  tf.data.Dataset.zip((products.batch(100), products.batch(100).map(item_item_model_2.product_model)))\n",
        ")\n",
        "\n",
        "# Get recommendations.\n",
        "_, titles = brute_force(tf.constant([\"52228204\"]))\n",
        "print(f\"Recommendations for user 52228204: {titles[0, :10]}\")"
      ],
      "metadata": {
        "colab": {
          "base_uri": "https://localhost:8080/"
        },
        "id": "7P-UL8EMPQVL",
        "outputId": "33efe637-754a-4762-b48a-3627a688179f"
      },
      "execution_count": 31,
      "outputs": [
        {
          "output_type": "stream",
          "name": "stdout",
          "text": [
            "Recommendations for user 52228204: [b'Orikaso Superlight, Ultracompact Folding Cup / Tasse - Green'\n",
            " b'SKS Velo 65 MTB Snap-On Bicycle Fenders - Pair'\n",
            " b'Huffy Metrixx 20\" Freestyle Bicycle (EA)'\n",
            " b\"\\xc2\\xa0UltraClub Men's Long-Sleeve Cypress Denim with Pocket (Navy) (Medium)\"\n",
            " b'Manzella Mens Stalker Hunting Gloves'\n",
            " b'Oakley Frogskins Aquatique Collection Adult Sunglasses - Abyss / Positive Red / One Size Fits All - LIMITED EDITION (24-358)'\n",
            " b'Smartwool Hike Liner Crew Socks' b'Smartwool Hike Liner Crew Socks'\n",
            " b'Eureka N!ergy 12-Foot by-10-Foot Eight-Person Family Tent'\n",
            " b\"Pearl Izumi Women's Sugar Printed Shorts\"]\n"
          ]
        }
      ]
    },
    {
      "cell_type": "code",
      "source": [
        "# time BruteForce retrieval execusion. \n",
        "%timeit _, titles = brute_force(tf.constant([\"52228204\"]), k=10)"
      ],
      "metadata": {
        "colab": {
          "base_uri": "https://localhost:8080/"
        },
        "id": "Rax6khhvE2VB",
        "outputId": "4650e314-4ac9-4b86-d3be-ddf9cd6b1799"
      },
      "execution_count": 32,
      "outputs": [
        {
          "output_type": "stream",
          "name": "stdout",
          "text": [
            "3.03 ms ± 78.4 µs per loop (mean ± std. dev. of 7 runs, 100 loops each)\n"
          ]
        }
      ]
    },
    {
      "cell_type": "markdown",
      "source": [
        "There is still some repetition of recommendations, but not as extreme as in the basemodel. "
      ],
      "metadata": {
        "id": "JGTLhhsYDyen"
      }
    },
    {
      "cell_type": "code",
      "source": [
        "# model serving: saving the model to G-Drive\n",
        "\n",
        "# Export the query model.\n",
        "gdrive_path = '/content/drive/MyDrive/Models'\n",
        "path = os.path.join(gdrive_path, \"item_item_model_2\")\n",
        "\n",
        "# Save the brute_force.\n",
        "tf.saved_model.save(brute_force, path)\n",
        "\n",
        "# Load it back; can also be done in TensorFlow Serving.\n",
        "item_item_model_3 = tf.saved_model.load(path)\n",
        "\n",
        "# Pass a user id in, get top predicted movie titles back.\n",
        "scores, titles = item_item_model_3([\"52228204\"])\n",
        "\n",
        "print(f\"Recommendations: {titles[0][:3]}\")\n"
      ],
      "metadata": {
        "colab": {
          "base_uri": "https://localhost:8080/"
        },
        "id": "6wwii7quPXOb",
        "outputId": "a3c10cef-5cdd-49eb-cf25-941a7857c0b1"
      },
      "execution_count": 33,
      "outputs": [
        {
          "output_type": "stream",
          "name": "stderr",
          "text": [
            "WARNING:absl:Found untraced functions such as query_with_exclusions while saving (showing 1 of 1). These functions will not be directly callable after loading.\n"
          ]
        },
        {
          "output_type": "stream",
          "name": "stdout",
          "text": [
            "Recommendations: [b'Avenir Hartigan Helmet, White, Large/X-Large/59-62-cm'\n",
            " b'Italy \"Italia\" Vintage Flag International Mens T-Shirt #1180'\n",
            " b'Hot Headz Polarex Hunting Cap with Ear Flaps, Orange, One Size']\n"
          ]
        }
      ]
    },
    {
      "cell_type": "markdown",
      "source": [
        "Adding ScaNN layer for quick retrieval and saving it to G-Drive. "
      ],
      "metadata": {
        "id": "-yWoax75-Jax"
      }
    },
    {
      "cell_type": "code",
      "source": [
        "# adding ScaNN layer\n",
        "scann = tfrs.layers.factorized_top_k.ScaNN(item_item_model_2.product_model)\n",
        "scann.index_from_dataset(\n",
        "  tf.data.Dataset.zip((products.batch(100), products.batch(100).map(item_item_model_2.product_model)))\n",
        ")\n",
        "\n",
        "# Get recommendations.\n",
        "_, titles = scann(tf.constant([\"52228204\"]))\n",
        "print(f\"Recommendations for user 52228204: {titles[0, :10]}\")"
      ],
      "metadata": {
        "colab": {
          "base_uri": "https://localhost:8080/"
        },
        "id": "mSa5LPrOPzEW",
        "outputId": "f7b3c61e-05eb-4c3d-b666-8925b8dad120"
      },
      "execution_count": 33,
      "outputs": [
        {
          "output_type": "stream",
          "name": "stdout",
          "text": [
            "Recommendations for user 52228204: [b'Pilo D92 Black Derailleur Hanger - Fits: Iron Horse Downhill SGS DH WC/ Team/ PRO'\n",
            " b'Bandcase Replacement Vivid Color Wristband with Clasp for Fitbit Flex Activity & Sleep Tracker (No Tracker) (Orange, Small)'\n",
            " b'Avenir Ginger Youth Bike Helmet' b'DAKINE Ava Shoulder Bag - jasmine'\n",
            " b'Sinland Microfiber Ultra Compact Fast Drying Absorbent Travel Sports Towels(Purple, 32\"x60\")'\n",
            " b'Huffy Metrixx 20\" Freestyle Bicycle (EA)'\n",
            " b'BESTOPE High Quality & Brand New Vintage Retro Floral Ladies Canvas School Backpack'\n",
            " b'Manzella Mens Stalker Hunting Gloves' b'Lucky Crew Complete Scooter'\n",
            " b'Doomagic N17 Foldable Backpack Packable Handy Waterproof Bag Lightweight For Travel Camping Hiking Daypack (Blue)']\n"
          ]
        }
      ]
    },
    {
      "cell_type": "code",
      "source": [
        "#timeit\n",
        "%timeit _, titles = scann(tf.constant([\"52228204\"]))"
      ],
      "metadata": {
        "colab": {
          "base_uri": "https://localhost:8080/"
        },
        "id": "RG7Bur87FnaH",
        "outputId": "3a100a2a-40bb-4818-e500-c3b4c630cd38"
      },
      "execution_count": 37,
      "outputs": [
        {
          "output_type": "stream",
          "name": "stdout",
          "text": [
            "3.25 ms ± 30.3 µs per loop (mean ± std. dev. of 7 runs, 100 loops each)\n"
          ]
        }
      ]
    },
    {
      "cell_type": "code",
      "source": [
        "# exporting ScaNN layer\n",
        "\n",
        "# Export the query model.\n",
        "gdrive_path = '/content/drive/MyDrive/Models'\n",
        "path = os.path.join(gdrive_path, \"item_item_model_2\")\n",
        "\n",
        "# Save the scann.\n",
        "tf.saved_model.save(\n",
        "    scann,\n",
        "    path,\n",
        "    options=tf.saved_model.SaveOptions(namespace_whitelist=[\"Scann\"])\n",
        ")\n",
        "\n",
        "# Load it back; can also be done in TensorFlow Serving.\n",
        "item_item_model_3 = tf.saved_model.load(path)\n",
        "\n",
        "# Pass a user id in, get top predicted movie titles back.\n",
        "scores, titles = item_item_model_3([\"52228204\"])\n",
        "\n",
        "print(f\"Recommendations: {titles[0][:10]}\")"
      ],
      "metadata": {
        "colab": {
          "base_uri": "https://localhost:8080/"
        },
        "id": "slPopwxhQEJc",
        "outputId": "d523282c-d86c-4cca-8790-9b1f2c6f520a"
      },
      "execution_count": 38,
      "outputs": [
        {
          "output_type": "stream",
          "name": "stderr",
          "text": [
            "WARNING:absl:Found untraced functions such as query_with_exclusions while saving (showing 1 of 1). These functions will not be directly callable after loading.\n"
          ]
        },
        {
          "output_type": "stream",
          "name": "stdout",
          "text": [
            "Recommendations: [b'Pilo D92 Black Derailleur Hanger - Fits: Iron Horse Downhill SGS DH WC/ Team/ PRO'\n",
            " b'Bandcase Replacement Vivid Color Wristband with Clasp for Fitbit Flex Activity & Sleep Tracker (No Tracker) (Orange, Small)'\n",
            " b'Avenir Ginger Youth Bike Helmet' b'DAKINE Ava Shoulder Bag - jasmine'\n",
            " b'Sinland Microfiber Ultra Compact Fast Drying Absorbent Travel Sports Towels(Purple, 32\"x60\")'\n",
            " b'Huffy Metrixx 20\" Freestyle Bicycle (EA)'\n",
            " b'BESTOPE High Quality & Brand New Vintage Retro Floral Ladies Canvas School Backpack'\n",
            " b'Manzella Mens Stalker Hunting Gloves' b'Lucky Crew Complete Scooter'\n",
            " b'Doomagic N17 Foldable Backpack Packable Handy Waterproof Bag Lightweight For Travel Camping Hiking Daypack (Blue)']\n"
          ]
        }
      ]
    },
    {
      "cell_type": "markdown",
      "source": [
        "## model 4"
      ],
      "metadata": {
        "id": "4WfgKiS0Ly_Y"
      }
    },
    {
      "cell_type": "markdown",
      "source": [
        "Adding additional Dropout layer of 20% to test if model performance will improve."
      ],
      "metadata": {
        "id": "0wZEOAxmPzWK"
      }
    },
    {
      "cell_type": "code",
      "source": [
        "product_model = tf.keras.Sequential([\n",
        "  tf.keras.layers.StringLookup(\n",
        "      vocabulary=unique_product_titles, mask_token=None),\n",
        "  tf.keras.layers.Embedding(len(unique_product_titles) + 1, embedding_dimension),\n",
        "  tf.keras.layers.Dropout(0.2),\n",
        "  tf.keras.layers.Dense(32, activation = 'relu'), \n",
        "  tf.keras.layers.Dropout(0.2)\n",
        "])"
      ],
      "metadata": {
        "id": "gOWvRO7mMish"
      },
      "execution_count": 37,
      "outputs": []
    },
    {
      "cell_type": "code",
      "source": [
        "metrics = tfrs.metrics.FactorizedTopK(\n",
        "  candidates=products.batch(128).map(product_model)\n",
        ")"
      ],
      "metadata": {
        "id": "C28QwIJDMyAP"
      },
      "execution_count": 38,
      "outputs": []
    },
    {
      "cell_type": "code",
      "source": [
        "task = tfrs.tasks.Retrieval(\n",
        "  metrics=metrics\n",
        ")"
      ],
      "metadata": {
        "id": "sAWsbq0bM3Xk"
      },
      "execution_count": 39,
      "outputs": []
    },
    {
      "cell_type": "code",
      "source": [
        "class AmazonModel(tfrs.Model):\n",
        "\n",
        "  def __init__(self, user_model, product_model):\n",
        "    super().__init__()\n",
        "    self.product_model: tf.keras.Model = product_model\n",
        "    self.user_model: tf.keras.Model = product_model\n",
        "    self.task: tf.keras.layers.Layer = task\n",
        "\n",
        "  def compute_loss(self, features: Dict[Text, tf.Tensor], training=False) -> tf.Tensor:\n",
        "    # We pick out the user features and pass them into the user model.\n",
        "    product_embeddings = self.product_model(features['data'][\"product_title\"])\n",
        "    # And pick out the product features and pass them into the product model,\n",
        "    # getting embeddings back.\n",
        "    positive_product_embeddings = self.product_model(features['data'][\"product_title\"])\n",
        "\n",
        "    # The task computes the loss and the metrics.\n",
        "    return self.task(product_embeddings, positive_product_embeddings)"
      ],
      "metadata": {
        "id": "tcH-XjteM-V-"
      },
      "execution_count": 40,
      "outputs": []
    },
    {
      "cell_type": "code",
      "source": [
        "# initiate model\n",
        "item_item_model_4 = AmazonModel(product_model, product_model)\n",
        "item_item_model_4.compile(optimizer=tf.keras.optimizers.Adagrad(learning_rate=0.1))"
      ],
      "metadata": {
        "id": "DD_L09ZLNAS5"
      },
      "execution_count": 41,
      "outputs": []
    },
    {
      "cell_type": "code",
      "source": [
        "# shuffle, batch, and cache train and test data\n",
        "cached_train = train.shuffle(100_000).batch(8192).cache()\n",
        "cached_test = test.batch(4096).cache()"
      ],
      "metadata": {
        "id": "nLQ4ni2UNLV_"
      },
      "execution_count": 42,
      "outputs": []
    },
    {
      "cell_type": "code",
      "source": [
        "# train the model\n",
        "item_item_model_4.fit(cached_train, epochs = 5)"
      ],
      "metadata": {
        "colab": {
          "base_uri": "https://localhost:8080/"
        },
        "id": "ONJw3GLMNNUY",
        "outputId": "1aa7b6d4-7381-45cd-e149-2c0873199b8f"
      },
      "execution_count": 43,
      "outputs": [
        {
          "output_type": "stream",
          "name": "stdout",
          "text": [
            "Epoch 1/5\n",
            "12/12 [==============================] - 187s 15s/step - factorized_top_k/top_1_categorical_accuracy: 0.0958 - factorized_top_k/top_5_categorical_accuracy: 0.0971 - factorized_top_k/top_10_categorical_accuracy: 0.1086 - factorized_top_k/top_50_categorical_accuracy: 0.1708 - factorized_top_k/top_100_categorical_accuracy: 0.2029 - loss: 50051.5341 - regularization_loss: 0.0000e+00 - total_loss: 50051.5341\n",
            "Epoch 2/5\n",
            "12/12 [==============================] - 181s 15s/step - factorized_top_k/top_1_categorical_accuracy: 0.2440 - factorized_top_k/top_5_categorical_accuracy: 0.2832 - factorized_top_k/top_10_categorical_accuracy: 0.3437 - factorized_top_k/top_50_categorical_accuracy: 0.5330 - factorized_top_k/top_100_categorical_accuracy: 0.5773 - loss: 28424.0411 - regularization_loss: 0.0000e+00 - total_loss: 28424.0411\n",
            "Epoch 3/5\n",
            "12/12 [==============================] - 178s 15s/step - factorized_top_k/top_1_categorical_accuracy: 0.3148 - factorized_top_k/top_5_categorical_accuracy: 0.3733 - factorized_top_k/top_10_categorical_accuracy: 0.4674 - factorized_top_k/top_50_categorical_accuracy: 0.6446 - factorized_top_k/top_100_categorical_accuracy: 0.6844 - loss: 15818.2385 - regularization_loss: 0.0000e+00 - total_loss: 15818.2385\n",
            "Epoch 4/5\n",
            "12/12 [==============================] - 178s 15s/step - factorized_top_k/top_1_categorical_accuracy: 0.1814 - factorized_top_k/top_5_categorical_accuracy: 0.4667 - factorized_top_k/top_10_categorical_accuracy: 0.6435 - factorized_top_k/top_50_categorical_accuracy: 0.9019 - factorized_top_k/top_100_categorical_accuracy: 0.9478 - loss: 3802.4154 - regularization_loss: 0.0000e+00 - total_loss: 3802.4154\n",
            "Epoch 5/5\n",
            "12/12 [==============================] - 178s 15s/step - factorized_top_k/top_1_categorical_accuracy: 0.2257 - factorized_top_k/top_5_categorical_accuracy: 0.5541 - factorized_top_k/top_10_categorical_accuracy: 0.7059 - factorized_top_k/top_50_categorical_accuracy: 0.9334 - factorized_top_k/top_100_categorical_accuracy: 0.9736 - loss: 3397.3909 - regularization_loss: 0.0000e+00 - total_loss: 3397.3909\n"
          ]
        },
        {
          "output_type": "execute_result",
          "data": {
            "text/plain": [
              "<keras.callbacks.History at 0x7f58e6d22b10>"
            ]
          },
          "metadata": {},
          "execution_count": 43
        }
      ]
    },
    {
      "cell_type": "code",
      "source": [
        "# evaluate model\n",
        "item_item_model_4.evaluate(cached_test, return_dict=True)"
      ],
      "metadata": {
        "colab": {
          "base_uri": "https://localhost:8080/"
        },
        "id": "5GPOkTF0N1Ij",
        "outputId": "b3122b0a-a29e-4946-9363-60ac9f3185b7"
      },
      "execution_count": 45,
      "outputs": [
        {
          "output_type": "stream",
          "name": "stdout",
          "text": [
            "6/6 [==============================] - 53s 9s/step - factorized_top_k/top_1_categorical_accuracy: 0.4896 - factorized_top_k/top_5_categorical_accuracy: 0.5724 - factorized_top_k/top_10_categorical_accuracy: 0.6232 - factorized_top_k/top_50_categorical_accuracy: 0.6944 - factorized_top_k/top_100_categorical_accuracy: 0.7077 - loss: 11046.2619 - regularization_loss: 0.0000e+00 - total_loss: 11046.2619\n"
          ]
        },
        {
          "output_type": "execute_result",
          "data": {
            "text/plain": [
              "{'factorized_top_k/top_1_categorical_accuracy': 0.48961952328681946,\n",
              " 'factorized_top_k/top_5_categorical_accuracy': 0.5723592638969421,\n",
              " 'factorized_top_k/top_10_categorical_accuracy': 0.6231757998466492,\n",
              " 'factorized_top_k/top_50_categorical_accuracy': 0.6944058537483215,\n",
              " 'factorized_top_k/top_100_categorical_accuracy': 0.7076963186264038,\n",
              " 'loss': 7286.86328125,\n",
              " 'regularization_loss': 0,\n",
              " 'total_loss': 7286.86328125}"
            ]
          },
          "metadata": {},
          "execution_count": 45
        }
      ]
    },
    {
      "cell_type": "code",
      "source": [
        "# recommending Top-10 products for customer 52228204\n",
        "\n",
        "# Create a item_item_model_4 that takes in raw query features, and\n",
        "index = tfrs.layers.factorized_top_k.BruteForce(item_item_model_4.product_model)\n",
        "# recommends products out of the entire products dataset.\n",
        "index.index_from_dataset(\n",
        "  tf.data.Dataset.zip((products.batch(100), products.batch(100).map(item_item_model_4.product_model)))\n",
        ")\n",
        "\n",
        "# Get recommendations.\n",
        "_, titles = index(tf.constant([\"52228204\"]))\n",
        "print(f\"Recommendations for user 52228204: {titles[0, :10]}\")"
      ],
      "metadata": {
        "colab": {
          "base_uri": "https://localhost:8080/"
        },
        "id": "a18cb14PRzdB",
        "outputId": "0dfca8d4-29e0-4b57-8fda-296f6bd1665c"
      },
      "execution_count": 46,
      "outputs": [
        {
          "output_type": "stream",
          "name": "stdout",
          "text": [
            "Recommendations for user 52228204: [b'Pelican Deluxe Marine Seat Cushion Cooler'\n",
            " b'i-smile Replacement Bands with Metal Clasps for Fitbit Flex, Set of 3 with 2 Piece Silicon Fastener Ring'\n",
            " b'i-smile Replacement Bands with Metal Clasps for Fitbit Flex, Set of 3 with 2 Piece Silicon Fastener Ring'\n",
            " b'Rough Rack 3-6 Ski & Snowboard Rack'\n",
            " b'Rough Rack 3-6 Ski & Snowboard Rack'\n",
            " b'AO Coolers NU-ICE Ice Enhancer,  5 lbs'\n",
            " b\"Royal Robbins Men's Vernon Short Sleeve Top\"\n",
            " b'Evo Sync AM/FM Handlebar Radio, With LED And Horn'\n",
            " b'Dragon Alliance Teal/Green Ion Cinch Jet Sunglasses'\n",
            " b\"Currie Technologies Women's eZip Trailz Commuter Lithium Electric Bicycle, White, 15-Inch\"]\n"
          ]
        }
      ]
    },
    {
      "cell_type": "markdown",
      "source": [
        "Even though the second fine-tuned model performs slightly better than the first one on the test data: Top-10 AR is at 62% vs 59%, the recommendation's outputs has repetions and some suggestions are off. We will use first fine-tuned item-to-item model as a final model and run this model on the full dataset. "
      ],
      "metadata": {
        "id": "F5jjaxRshQm-"
      }
    },
    {
      "cell_type": "code",
      "source": [],
      "metadata": {
        "id": "wKWTjLYMjLTR"
      },
      "execution_count": null,
      "outputs": []
    }
  ]
}
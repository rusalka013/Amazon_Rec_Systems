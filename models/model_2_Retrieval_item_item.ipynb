{
  "nbformat": 4,
  "nbformat_minor": 0,
  "metadata": {
    "colab": {
      "provenance": [],
      "collapsed_sections": [],
      "toc_visible": true,
      "machine_shape": "hm"
    },
    "kernelspec": {
      "name": "python3",
      "display_name": "Python 3"
    },
    "language_info": {
      "name": "python"
    },
    "accelerator": "GPU",
    "gpuClass": "premium"
  },
  "cells": [
    {
      "cell_type": "markdown",
      "source": [
        "# Retrieval model: item-to-item\n",
        "\n",
        "\n"
      ],
      "metadata": {
        "id": "oVmLzgzO_qey"
      }
    },
    {
      "cell_type": "markdown",
      "source": [
        "The second model that we are planning to build has similar architecture to the 1st model, but in this case we will use two product models for both queery and candidate models."
      ],
      "metadata": {
        "id": "ag6ftqYHFCiE"
      }
    },
    {
      "cell_type": "markdown",
      "source": [
        "### Imports"
      ],
      "metadata": {
        "id": "_MiQ_T6U_zdZ"
      }
    },
    {
      "cell_type": "code",
      "execution_count": 1,
      "metadata": {
        "colab": {
          "base_uri": "https://localhost:8080/"
        },
        "id": "o85tAgdr_g6A",
        "outputId": "efe0d703-acf7-46ad-e482-f2a0a841cfdd"
      },
      "outputs": [
        {
          "output_type": "stream",
          "name": "stdout",
          "text": [
            "Looking in indexes: https://pypi.org/simple, https://us-python.pkg.dev/colab-wheels/public/simple/\n",
            "Requirement already satisfied: tensorflow in /usr/local/lib/python3.7/dist-packages (2.10.0)\n",
            "Requirement already satisfied: typing-extensions>=3.6.6 in /usr/local/lib/python3.7/dist-packages (from tensorflow) (4.1.1)\n",
            "Requirement already satisfied: absl-py>=1.0.0 in /usr/local/lib/python3.7/dist-packages (from tensorflow) (1.3.0)\n",
            "Requirement already satisfied: grpcio<2.0,>=1.24.3 in /usr/local/lib/python3.7/dist-packages (from tensorflow) (1.49.1)\n",
            "Requirement already satisfied: tensorboard<2.11,>=2.10 in /usr/local/lib/python3.7/dist-packages (from tensorflow) (2.10.1)\n",
            "Requirement already satisfied: flatbuffers>=2.0 in /usr/local/lib/python3.7/dist-packages (from tensorflow) (22.9.24)\n",
            "Requirement already satisfied: gast<=0.4.0,>=0.2.1 in /usr/local/lib/python3.7/dist-packages (from tensorflow) (0.4.0)\n",
            "Requirement already satisfied: six>=1.12.0 in /usr/local/lib/python3.7/dist-packages (from tensorflow) (1.15.0)\n",
            "Requirement already satisfied: opt-einsum>=2.3.2 in /usr/local/lib/python3.7/dist-packages (from tensorflow) (3.3.0)\n",
            "Requirement already satisfied: astunparse>=1.6.0 in /usr/local/lib/python3.7/dist-packages (from tensorflow) (1.6.3)\n",
            "Requirement already satisfied: packaging in /usr/local/lib/python3.7/dist-packages (from tensorflow) (21.3)\n",
            "Requirement already satisfied: tensorflow-estimator<2.11,>=2.10.0 in /usr/local/lib/python3.7/dist-packages (from tensorflow) (2.10.0)\n",
            "Requirement already satisfied: setuptools in /usr/local/lib/python3.7/dist-packages (from tensorflow) (57.4.0)\n",
            "Requirement already satisfied: google-pasta>=0.1.1 in /usr/local/lib/python3.7/dist-packages (from tensorflow) (0.2.0)\n",
            "Requirement already satisfied: keras-preprocessing>=1.1.1 in /usr/local/lib/python3.7/dist-packages (from tensorflow) (1.1.2)\n",
            "Requirement already satisfied: termcolor>=1.1.0 in /usr/local/lib/python3.7/dist-packages (from tensorflow) (2.0.1)\n",
            "Requirement already satisfied: protobuf<3.20,>=3.9.2 in /usr/local/lib/python3.7/dist-packages (from tensorflow) (3.17.3)\n",
            "Requirement already satisfied: tensorflow-io-gcs-filesystem>=0.23.1 in /usr/local/lib/python3.7/dist-packages (from tensorflow) (0.27.0)\n",
            "Requirement already satisfied: keras<2.11,>=2.10.0 in /usr/local/lib/python3.7/dist-packages (from tensorflow) (2.10.0)\n",
            "Requirement already satisfied: h5py>=2.9.0 in /usr/local/lib/python3.7/dist-packages (from tensorflow) (3.1.0)\n",
            "Requirement already satisfied: wrapt>=1.11.0 in /usr/local/lib/python3.7/dist-packages (from tensorflow) (1.14.1)\n",
            "Requirement already satisfied: numpy>=1.20 in /usr/local/lib/python3.7/dist-packages (from tensorflow) (1.21.6)\n",
            "Requirement already satisfied: libclang>=13.0.0 in /usr/local/lib/python3.7/dist-packages (from tensorflow) (14.0.6)\n",
            "Requirement already satisfied: wheel<1.0,>=0.23.0 in /usr/local/lib/python3.7/dist-packages (from astunparse>=1.6.0->tensorflow) (0.37.1)\n",
            "Requirement already satisfied: cached-property in /usr/local/lib/python3.7/dist-packages (from h5py>=2.9.0->tensorflow) (1.5.2)\n",
            "Requirement already satisfied: markdown>=2.6.8 in /usr/local/lib/python3.7/dist-packages (from tensorboard<2.11,>=2.10->tensorflow) (3.4.1)\n",
            "Requirement already satisfied: requests<3,>=2.21.0 in /usr/local/lib/python3.7/dist-packages (from tensorboard<2.11,>=2.10->tensorflow) (2.23.0)\n",
            "Requirement already satisfied: tensorboard-data-server<0.7.0,>=0.6.0 in /usr/local/lib/python3.7/dist-packages (from tensorboard<2.11,>=2.10->tensorflow) (0.6.1)\n",
            "Requirement already satisfied: google-auth<3,>=1.6.3 in /usr/local/lib/python3.7/dist-packages (from tensorboard<2.11,>=2.10->tensorflow) (1.35.0)\n",
            "Requirement already satisfied: tensorboard-plugin-wit>=1.6.0 in /usr/local/lib/python3.7/dist-packages (from tensorboard<2.11,>=2.10->tensorflow) (1.8.1)\n",
            "Requirement already satisfied: werkzeug>=1.0.1 in /usr/local/lib/python3.7/dist-packages (from tensorboard<2.11,>=2.10->tensorflow) (1.0.1)\n",
            "Requirement already satisfied: google-auth-oauthlib<0.5,>=0.4.1 in /usr/local/lib/python3.7/dist-packages (from tensorboard<2.11,>=2.10->tensorflow) (0.4.6)\n",
            "Requirement already satisfied: pyasn1-modules>=0.2.1 in /usr/local/lib/python3.7/dist-packages (from google-auth<3,>=1.6.3->tensorboard<2.11,>=2.10->tensorflow) (0.2.8)\n",
            "Requirement already satisfied: rsa<5,>=3.1.4 in /usr/local/lib/python3.7/dist-packages (from google-auth<3,>=1.6.3->tensorboard<2.11,>=2.10->tensorflow) (4.9)\n",
            "Requirement already satisfied: cachetools<5.0,>=2.0.0 in /usr/local/lib/python3.7/dist-packages (from google-auth<3,>=1.6.3->tensorboard<2.11,>=2.10->tensorflow) (4.2.4)\n",
            "Requirement already satisfied: requests-oauthlib>=0.7.0 in /usr/local/lib/python3.7/dist-packages (from google-auth-oauthlib<0.5,>=0.4.1->tensorboard<2.11,>=2.10->tensorflow) (1.3.1)\n",
            "Requirement already satisfied: importlib-metadata>=4.4 in /usr/local/lib/python3.7/dist-packages (from markdown>=2.6.8->tensorboard<2.11,>=2.10->tensorflow) (4.13.0)\n",
            "Requirement already satisfied: zipp>=0.5 in /usr/local/lib/python3.7/dist-packages (from importlib-metadata>=4.4->markdown>=2.6.8->tensorboard<2.11,>=2.10->tensorflow) (3.9.0)\n",
            "Requirement already satisfied: pyasn1<0.5.0,>=0.4.6 in /usr/local/lib/python3.7/dist-packages (from pyasn1-modules>=0.2.1->google-auth<3,>=1.6.3->tensorboard<2.11,>=2.10->tensorflow) (0.4.8)\n",
            "Requirement already satisfied: chardet<4,>=3.0.2 in /usr/local/lib/python3.7/dist-packages (from requests<3,>=2.21.0->tensorboard<2.11,>=2.10->tensorflow) (3.0.4)\n",
            "Requirement already satisfied: certifi>=2017.4.17 in /usr/local/lib/python3.7/dist-packages (from requests<3,>=2.21.0->tensorboard<2.11,>=2.10->tensorflow) (2022.9.24)\n",
            "Requirement already satisfied: idna<3,>=2.5 in /usr/local/lib/python3.7/dist-packages (from requests<3,>=2.21.0->tensorboard<2.11,>=2.10->tensorflow) (2.10)\n",
            "Requirement already satisfied: urllib3!=1.25.0,!=1.25.1,<1.26,>=1.21.1 in /usr/local/lib/python3.7/dist-packages (from requests<3,>=2.21.0->tensorboard<2.11,>=2.10->tensorflow) (1.24.3)\n",
            "Requirement already satisfied: oauthlib>=3.0.0 in /usr/local/lib/python3.7/dist-packages (from requests-oauthlib>=0.7.0->google-auth-oauthlib<0.5,>=0.4.1->tensorboard<2.11,>=2.10->tensorflow) (3.2.1)\n",
            "Requirement already satisfied: pyparsing!=3.0.5,>=2.0.2 in /usr/local/lib/python3.7/dist-packages (from packaging->tensorflow) (3.0.9)\n"
          ]
        }
      ],
      "source": [
        "! pip install tensorflow"
      ]
    },
    {
      "cell_type": "code",
      "source": [
        "! pip install -q tensorflow-recommenders\n",
        "! pip install -q --upgrade tensorflow-datasets\n",
        "! pip install -q scann"
      ],
      "metadata": {
        "id": "lIhCpdSdA0Ww"
      },
      "execution_count": 2,
      "outputs": []
    },
    {
      "cell_type": "code",
      "source": [
        "import os\n",
        "import pprint\n",
        "import tempfile\n",
        "\n",
        "from typing import Dict, Text\n",
        "\n",
        "import numpy as np\n",
        "import pandas as pd\n",
        "import matplotlib.pyplot as plt\n",
        "import seaborn as sns\n",
        "\n",
        "import tensorflow as tf\n",
        "import tensorflow_datasets as tfds\n",
        "from tensorflow import keras\n",
        "from tensorflow.keras import layers\n",
        "import tensorflow_recommenders as tfrs\n",
        "\n",
        "# import interactive table \n",
        "from google.colab import data_table\n",
        "data_table.enable_dataframe_formatter()\n",
        "\n",
        "# set seed\n",
        "tf.random.set_seed(42)"
      ],
      "metadata": {
        "id": "fnw0ieejA3R9"
      },
      "execution_count": 3,
      "outputs": []
    },
    {
      "cell_type": "markdown",
      "source": [
        "### Preparing the dataset"
      ],
      "metadata": {
        "id": "NwLQgvvpELbt"
      }
    },
    {
      "cell_type": "code",
      "source": [
        "# mount G-Drive and load data\n",
        "from google.colab import drive\n",
        "drive.mount('/content/drive')\n",
        "\n",
        "# load data subset \n",
        "gdrive_path = '/content/drive/MyDrive/ModelingData'\n",
        "path = os.path.join(gdrive_path, \"ratings\")\n",
        "\n",
        "ratings = tf.data.Dataset.load(path)"
      ],
      "metadata": {
        "colab": {
          "base_uri": "https://localhost:8080/"
        },
        "id": "rRcZpstIBCHO",
        "outputId": "c4f53568-2a38-4d57-b451-f7885c9e077c"
      },
      "execution_count": 4,
      "outputs": [
        {
          "output_type": "stream",
          "name": "stdout",
          "text": [
            "Drive already mounted at /content/drive; to attempt to forcibly remount, call drive.mount(\"/content/drive\", force_remount=True).\n"
          ]
        }
      ]
    },
    {
      "cell_type": "code",
      "source": [
        "# Select the basic features.\n",
        "\n",
        "products = ratings.map(lambda x: x['data']['product_title'])"
      ],
      "metadata": {
        "id": "QIjRO75CB-PJ"
      },
      "execution_count": 5,
      "outputs": []
    },
    {
      "cell_type": "code",
      "source": [
        "# train-test split\n",
        "tf.random.set_seed(42)\n",
        "shuffled = ratings.shuffle(92_096, seed=42, reshuffle_each_iteration=False)\n",
        "\n",
        "train = shuffled.take(92_096)\n",
        "test = shuffled.skip(92_096).take(23_024)"
      ],
      "metadata": {
        "id": "f8BJNQgUC1DK"
      },
      "execution_count": 6,
      "outputs": []
    },
    {
      "cell_type": "code",
      "source": [
        "# vocabulary to map raw feature values to embedding vectors\n",
        "product_titles = products.batch(50_000)\n",
        "unique_product_titles = np.unique(np.concatenate(list(product_titles)))\n",
        "\n",
        "unique_product_titles[:10]"
      ],
      "metadata": {
        "colab": {
          "base_uri": "https://localhost:8080/"
        },
        "id": "l3JIJg69C1-E",
        "outputId": "35221987-5954-4e63-dbf1-b97eb56d62b9"
      },
      "execution_count": 7,
      "outputs": [
        {
          "output_type": "execute_result",
          "data": {
            "text/plain": [
              "array([b'! Set 7 Colors Small S Replacement Bands + 1pc Free Small Grey Band With Clasp for Fitbit FLEX Only /No tracker/ 1pc Teal (Blue/Grey) 1pc Purple / Pink 1pc Red (Tangerine) 1pc Green 1pc Slate (Blue/Grey) 1pc Black 1pc Navy (Blue) Bands Wireless Activity Bracelet Sport Wristband Fit Bit Flex Bracelet Sport Arm Band Armband',\n",
              "       b'! Small S 1pc Green 1pc Teal (Blue/Green) 1pc Red (Tangerine) Replacement Bands + 1pc Free Small Grey Band With Clasp for Fitbit FLEX Only /No tracker/ Wireless Activity Bracelet Sport Wristband Fit Bit Flex Bracelet Sport Arm Band Armband',\n",
              "       b'! Small S 1pc Teal (Blue/Green) 1pc Purple / Pink Replacement Bands + 1pc Free Small Grey Band With Clasp for Fitbit FLEX Only /No tracker/ Wireless Activity Bracelet Sport Wristband Fit Bit Flex Bracelet Sport Arm Band Armband',\n",
              "       b'\"\"\"SEASON SPECIAL\"\"\"THE ORIGINAL HEAVY DUTY BIG GRIZZLY COT-HEAVY DUTY QUALITY w/ IPHONE Holder & Drink Holder-High Quality Product-10 YEARS WARRANTY-84\\xe2\\x80\\x9d L x 32\\xe2\\x80\\x9d W x 9\\xe2\\x80\\x9d H ---A BONUS SOLAR RECHARGEABLE LED FLASHLIGHT INCLUDED WITH YOUR COT...280 LBS. MAX WEIGHT CAPACITY',\n",
              "       b'\"\"\"SEASON SPECIAL\"\"HEAVY-DUTY OASIS MARINE CHAIR W/ UNIQUE NON-SKID DESIGN-Side Table & Cup Holder-5 Years Warranty-',\n",
              "       b'\"\"SEASON SPECIAL\"\"NEW & IMPROVED!! HEAVY-DUTY OVERSIZE Oasis COOL CHAIR-TOP OF THE LINE CONSTRUCTION- 10 YEARS WARRANTY-A BONUS SOLAR RECHARGEABLE LED FLASHLIGHT INCLUDED WITH YOUR PURCHASE....BUY TWO CHAIRS AND RECEIVE A BONUS COOLER BAG!!!',\n",
              "       b'\"Biker Chick\" Gremlin Bell',\n",
              "       b'\"Bomber Irie Bomb Floating Sunglasses',\n",
              "       b'\"Candy Apple Red\" Zippo Lighter Gift Set',\n",
              "       b'\"Chasing the Lotus\" Surfing DVD'], dtype=object)"
            ]
          },
          "metadata": {},
          "execution_count": 7
        }
      ]
    },
    {
      "cell_type": "code",
      "source": [
        "# dimensionality of the query and candidate representations:\n",
        "embedding_dimension = 64"
      ],
      "metadata": {
        "id": "aSDd1BCHC9QE"
      },
      "execution_count": 8,
      "outputs": []
    },
    {
      "cell_type": "markdown",
      "source": [
        "### Implementing the model"
      ],
      "metadata": {
        "id": "AhDB5nExETmB"
      }
    },
    {
      "cell_type": "code",
      "source": [
        "# define model that will be used for both query and candidate submodels. \n",
        "product_model = tf.keras.Sequential([\n",
        "  tf.keras.layers.StringLookup(\n",
        "      vocabulary=unique_product_titles, mask_token=None),\n",
        "  tf.keras.layers.Embedding(len(unique_product_titles) + 1, embedding_dimension)\n",
        "])"
      ],
      "metadata": {
        "id": "mhbc3bfkDApK"
      },
      "execution_count": 9,
      "outputs": []
    },
    {
      "cell_type": "code",
      "source": [
        "# define metric (categorical accuracy)\n",
        "metrics = tfrs.metrics.FactorizedTopK(\n",
        "  candidates=products.batch(128).map(product_model)\n",
        ")"
      ],
      "metadata": {
        "id": "8APMUVUWDGbh"
      },
      "execution_count": 10,
      "outputs": []
    },
    {
      "cell_type": "code",
      "source": [
        "# define Retrieval task\n",
        "task = tfrs.tasks.Retrieval(\n",
        "  metrics=metrics\n",
        ")"
      ],
      "metadata": {
        "id": "7bQpvV47DHH1"
      },
      "execution_count": 11,
      "outputs": []
    },
    {
      "cell_type": "code",
      "source": [
        "# create a model based on TensorFlow Recommenders Model class\n",
        "class AmazonModel(tfrs.Model):\n",
        "\n",
        "  def __init__(self, user_model, product_model):\n",
        "    super().__init__()\n",
        "    self.product_model: tf.keras.Model = product_model\n",
        "    self.user_model: tf.keras.Model = product_model\n",
        "    self.task: tf.keras.layers.Layer = task\n",
        "\n",
        "  def compute_loss(self, features: Dict[Text, tf.Tensor], training=False) -> tf.Tensor:\n",
        "    # We pick out the product features and pass them into the user model.\n",
        "    product_embeddings = self.product_model(features['data'][\"product_title\"])\n",
        "    # And pick out the product features and pass them into the product model,\n",
        "    # getting embeddings back.\n",
        "    positive_product_embeddings = self.product_model(features['data'][\"product_title\"])\n",
        "\n",
        "    # The task computes the loss and the metrics.\n",
        "    return self.task(product_embeddings, positive_product_embeddings)"
      ],
      "metadata": {
        "id": "T3hXFsX-DJtE"
      },
      "execution_count": 12,
      "outputs": []
    },
    {
      "cell_type": "code",
      "source": [
        "# initiate model\n",
        "item_item_model = AmazonModel(product_model, product_model)\n",
        "item_item_model.compile(optimizer=tf.keras.optimizers.Adagrad(learning_rate=0.5))"
      ],
      "metadata": {
        "id": "sDVi3bsnDofr"
      },
      "execution_count": 13,
      "outputs": []
    },
    {
      "cell_type": "markdown",
      "source": [
        "### Fitting and Evaluating the model"
      ],
      "metadata": {
        "id": "qSlGjId6Es8N"
      }
    },
    {
      "cell_type": "code",
      "source": [
        "# shuffle, batch, and cache train and test data\n",
        "cached_train = train.shuffle(100_000).batch(8192).cache()\n",
        "cached_test = test.batch(4096).cache()"
      ],
      "metadata": {
        "id": "v6uN8Xm4O-Df"
      },
      "execution_count": 14,
      "outputs": []
    },
    {
      "cell_type": "code",
      "source": [
        "# train the model\n",
        "item_item_model.fit(cached_train, epochs = 3)"
      ],
      "metadata": {
        "colab": {
          "base_uri": "https://localhost:8080/"
        },
        "id": "X5-ef2mYPHNo",
        "outputId": "632ea0b1-3054-421e-ebb6-7253ba3e8f95"
      },
      "execution_count": 15,
      "outputs": [
        {
          "output_type": "stream",
          "name": "stdout",
          "text": [
            "Epoch 1/3\n",
            "12/12 [==============================] - 347s 28s/step - factorized_top_k/top_1_categorical_accuracy: 0.2577 - factorized_top_k/top_5_categorical_accuracy: 0.2828 - factorized_top_k/top_10_categorical_accuracy: 0.3193 - factorized_top_k/top_50_categorical_accuracy: 0.3550 - factorized_top_k/top_100_categorical_accuracy: 0.3616 - loss: 42216.0425 - regularization_loss: 0.0000e+00 - total_loss: 42216.0425\n",
            "Epoch 2/3\n",
            "12/12 [==============================] - 339s 28s/step - factorized_top_k/top_1_categorical_accuracy: 0.5112 - factorized_top_k/top_5_categorical_accuracy: 0.5799 - factorized_top_k/top_10_categorical_accuracy: 0.6164 - factorized_top_k/top_50_categorical_accuracy: 0.6804 - factorized_top_k/top_100_categorical_accuracy: 0.6893 - loss: 21268.1876 - regularization_loss: 0.0000e+00 - total_loss: 21268.1876\n",
            "Epoch 3/3\n",
            "12/12 [==============================] - 337s 28s/step - factorized_top_k/top_1_categorical_accuracy: 0.6339 - factorized_top_k/top_5_categorical_accuracy: 0.9027 - factorized_top_k/top_10_categorical_accuracy: 0.9366 - factorized_top_k/top_50_categorical_accuracy: 0.9821 - factorized_top_k/top_100_categorical_accuracy: 0.9899 - loss: 7555.3468 - regularization_loss: 0.0000e+00 - total_loss: 7555.3468\n"
          ]
        },
        {
          "output_type": "execute_result",
          "data": {
            "text/plain": [
              "<keras.callbacks.History at 0x7ff0585c0dd0>"
            ]
          },
          "metadata": {},
          "execution_count": 15
        }
      ]
    },
    {
      "cell_type": "code",
      "source": [
        "# evaluate model\n",
        "item_item_model.evaluate(cached_test, return_dict=True)"
      ],
      "metadata": {
        "colab": {
          "base_uri": "https://localhost:8080/"
        },
        "id": "pte8CcF5PL8f",
        "outputId": "f9bc19be-47df-4d5f-90e5-1ade0a33f9c3"
      },
      "execution_count": 22,
      "outputs": [
        {
          "output_type": "stream",
          "name": "stdout",
          "text": [
            "6/6 [==============================] - 96s 16s/step - factorized_top_k/top_1_categorical_accuracy: 0.4489 - factorized_top_k/top_5_categorical_accuracy: 0.5337 - factorized_top_k/top_10_categorical_accuracy: 0.5984 - factorized_top_k/top_50_categorical_accuracy: 0.6898 - factorized_top_k/top_100_categorical_accuracy: 0.7044 - loss: 9416.0350 - regularization_loss: 0.0000e+00 - total_loss: 9416.0350\n"
          ]
        },
        {
          "output_type": "execute_result",
          "data": {
            "text/plain": [
              "{'factorized_top_k/top_1_categorical_accuracy': 0.4488794207572937,\n",
              " 'factorized_top_k/top_5_categorical_accuracy': 0.5337473750114441,\n",
              " 'factorized_top_k/top_10_categorical_accuracy': 0.5984190702438354,\n",
              " 'factorized_top_k/top_50_categorical_accuracy': 0.6898453831672668,\n",
              " 'factorized_top_k/top_100_categorical_accuracy': 0.7044388651847839,\n",
              " 'loss': 6141.607421875,\n",
              " 'regularization_loss': 0,\n",
              " 'total_loss': 6141.607421875}"
            ]
          },
          "metadata": {},
          "execution_count": 22
        }
      ]
    },
    {
      "cell_type": "markdown",
      "source": [
        "Item-to-item model is performing much better in comparison to baseline SVD model. However, we do see that there is still might be some overfitting since model performed on train data with higher accuracy than on test data. The training accuracy for Top-10 is 93.66% vs 59.84% on testing. "
      ],
      "metadata": {
        "id": "-BS6odru-kMb"
      }
    },
    {
      "cell_type": "markdown",
      "source": [
        "### Serving and saving the model"
      ],
      "metadata": {
        "id": "UOf-5v7wFhzL"
      }
    },
    {
      "cell_type": "code",
      "source": [
        "# recommending Top-10 products for customer 52228204\n",
        "\n",
        "# Create a item_item_model that takes in raw query features, and\n",
        "index = tfrs.layers.factorized_top_k.BruteForce(item_item_model.product_model)\n",
        "# recommends products out of the entire products dataset.\n",
        "index.index_from_dataset(\n",
        "  tf.data.Dataset.zip((products.batch(100), products.batch(100).map(item_item_model.product_model)))\n",
        ")\n",
        "\n",
        "# Get recommendations.\n",
        "_, titles = index(tf.constant([\"52228204\"]))\n",
        "print(f\"Recommendations for user 52228204: {titles[0, :10]}\")"
      ],
      "metadata": {
        "colab": {
          "base_uri": "https://localhost:8080/"
        },
        "id": "7P-UL8EMPQVL",
        "outputId": "a2755fec-4e8d-45bd-eea8-b92e81eb40ba"
      },
      "execution_count": 23,
      "outputs": [
        {
          "output_type": "stream",
          "name": "stdout",
          "text": [
            "Recommendations for user 52228204: [b'North Mountain Gear Leafy Camouflage Complete Hunting Leafy Ghillie Suit Jacket Pants Hood'\n",
            " b'Sports Instruments PRO 9 Heart Rate Monitor'\n",
            " b'Bam Heartagram Pro New HIM 7.75 Skateboard Deck w/ Element Grip'\n",
            " b\"Outdoor Research Men's Versaliner, Black, 2.8 oz\"\n",
            " b\"Outdoor Research Men's Versaliner, Black, 2.8 oz\"\n",
            " b'Oury Mountain Magic Grips' b'Oury Mountain Magic Grips'\n",
            " b'Smith Safety Gear Elite Knee Pads' b'Smith Safety Gear Elite Knee Pads'\n",
            " b'Smith Safety Gear Elite Knee Pads']\n"
          ]
        }
      ]
    },
    {
      "cell_type": "markdown",
      "source": [
        "There is still some repetition of recommendations, but not as extreme as in the basemodel. "
      ],
      "metadata": {
        "id": "JGTLhhsYDyen"
      }
    },
    {
      "cell_type": "code",
      "source": [
        "# model serving: saving the model to G-Drive\n",
        "\n",
        "# Export the query model.\n",
        "gdrive_path = '/content/drive/MyDrive/Models'\n",
        "path = os.path.join(gdrive_path, \"item_item_model\")\n",
        "\n",
        "# Save the index.\n",
        "tf.saved_model.save(index, path)\n",
        "\n",
        "# Load it back; can also be done in TensorFlow Serving.\n",
        "item_item_model_2 = tf.saved_model.load(path)\n",
        "\n",
        "# Pass a user id in, get top predicted movie titles back.\n",
        "scores, titles = item_item_model_2([\"52228204\"])\n",
        "\n",
        "print(f\"Recommendations: {titles[0][:3]}\")\n"
      ],
      "metadata": {
        "colab": {
          "base_uri": "https://localhost:8080/"
        },
        "id": "6wwii7quPXOb",
        "outputId": "c54c5cd0-a9bb-44dd-ca66-b352fafaa2ae"
      },
      "execution_count": 24,
      "outputs": [
        {
          "output_type": "stream",
          "name": "stderr",
          "text": [
            "WARNING:absl:Found untraced functions such as query_with_exclusions while saving (showing 1 of 1). These functions will not be directly callable after loading.\n"
          ]
        },
        {
          "output_type": "stream",
          "name": "stdout",
          "text": [
            "Recommendations: [b'North Mountain Gear Leafy Camouflage Complete Hunting Leafy Ghillie Suit Jacket Pants Hood'\n",
            " b'Sports Instruments PRO 9 Heart Rate Monitor'\n",
            " b'Bam Heartagram Pro New HIM 7.75 Skateboard Deck w/ Element Grip']\n"
          ]
        }
      ]
    },
    {
      "cell_type": "markdown",
      "source": [
        "Adding ScaNN layer for quick retrieval and saving it to G-Drive. "
      ],
      "metadata": {
        "id": "-yWoax75-Jax"
      }
    },
    {
      "cell_type": "code",
      "source": [
        "# adding ScaNN layer\n",
        "scann_index = tfrs.layers.factorized_top_k.ScaNN(item_item_model.product_model)\n",
        "scann_index.index_from_dataset(\n",
        "  tf.data.Dataset.zip((products.batch(100), products.batch(100).map(item_item_model.product_model)))\n",
        ")"
      ],
      "metadata": {
        "colab": {
          "base_uri": "https://localhost:8080/"
        },
        "id": "mSa5LPrOPzEW",
        "outputId": "7a642f45-b6df-4975-ee92-a10050cd6abe"
      },
      "execution_count": 26,
      "outputs": [
        {
          "output_type": "execute_result",
          "data": {
            "text/plain": [
              "<tensorflow_recommenders.layers.factorized_top_k.ScaNN at 0x7ff05366d550>"
            ]
          },
          "metadata": {},
          "execution_count": 26
        }
      ]
    },
    {
      "cell_type": "code",
      "source": [
        "# Get recommendations.\n",
        "_, titles = scann_index(tf.constant([\"52228204\"]))\n",
        "print(f\"Recommendations for user 52228204: {titles[0, :10]}\")"
      ],
      "metadata": {
        "colab": {
          "base_uri": "https://localhost:8080/"
        },
        "id": "NAhZyK-VP_yj",
        "outputId": "7951ef8f-688a-499a-f761-ef6eb720b249"
      },
      "execution_count": 29,
      "outputs": [
        {
          "output_type": "stream",
          "name": "stdout",
          "text": [
            "Recommendations for user 52228204: [b'Assassins Creed Brotherhood Dozen Throwing Knives'\n",
            " b'Assassins Creed Brotherhood Dozen Throwing Knives'\n",
            " b\"Elite Cycling Project Men's Speed Cycling Jersey\"\n",
            " b\"Elite Cycling Project Men's Speed Cycling Jersey\"\n",
            " b\"Elite Cycling Project Men's Speed Cycling Jersey\"\n",
            " b'Oury Mountain Magic Grips' b'Oury Mountain Magic Grips'\n",
            " b'Eddie Bauer Trailhead Pack'\n",
            " b\"Outdoor Research Men's Versaliner, Black, 2.8 oz\"\n",
            " b\"Outdoor Research Men's Versaliner, Black, 2.8 oz\"]\n"
          ]
        }
      ]
    },
    {
      "cell_type": "code",
      "source": [
        "# exporting ScaNN layer\n",
        "\n",
        "# Export the query model.\n",
        "gdrive_path = '/content/drive/MyDrive/Models'\n",
        "path = os.path.join(gdrive_path, \"item_item_model\")\n",
        "\n",
        "# Save the index.\n",
        "tf.saved_model.save(\n",
        "    index,\n",
        "    path,\n",
        "    options=tf.saved_model.SaveOptions(namespace_whitelist=[\"Scann\"])\n",
        ")\n",
        "\n",
        "# Load it back; can also be done in TensorFlow Serving.\n",
        "item_item_model_2 = tf.saved_model.load(path)\n",
        "\n",
        "# Pass a user id in, get top predicted movie titles back.\n",
        "scores, titles = item_item_model_2([\"52228204\"])\n",
        "\n",
        "print(f\"Recommendations: {titles[0][:10]}\")"
      ],
      "metadata": {
        "colab": {
          "base_uri": "https://localhost:8080/"
        },
        "id": "slPopwxhQEJc",
        "outputId": "de91f6dd-3ad5-4088-9fd6-731713ae2cea"
      },
      "execution_count": 28,
      "outputs": [
        {
          "output_type": "stream",
          "name": "stderr",
          "text": [
            "WARNING:absl:Found untraced functions such as query_with_exclusions while saving (showing 1 of 1). These functions will not be directly callable after loading.\n"
          ]
        },
        {
          "output_type": "stream",
          "name": "stdout",
          "text": [
            "Recommendations: [b'North Mountain Gear Leafy Camouflage Complete Hunting Leafy Ghillie Suit Jacket Pants Hood'\n",
            " b'Sports Instruments PRO 9 Heart Rate Monitor'\n",
            " b'Bam Heartagram Pro New HIM 7.75 Skateboard Deck w/ Element Grip'\n",
            " b\"Outdoor Research Men's Versaliner, Black, 2.8 oz\"\n",
            " b\"Outdoor Research Men's Versaliner, Black, 2.8 oz\"\n",
            " b'Oury Mountain Magic Grips' b'Oury Mountain Magic Grips'\n",
            " b'Smith Safety Gear Elite Knee Pads' b'Smith Safety Gear Elite Knee Pads'\n",
            " b'Smith Safety Gear Elite Knee Pads']\n"
          ]
        }
      ]
    },
    {
      "cell_type": "markdown",
      "source": [
        "Overall, we do see a significant performance improvement on item-to-item model in comparison to the base SVD model. Train accuracy for Top-5 is 90.51% and 52.45% on test for item-item model vs 77% on train and 0.03% on test for top-5 on SVD model. "
      ],
      "metadata": {
        "id": "_1w22jXW9Pfz"
      }
    }
  ]
}
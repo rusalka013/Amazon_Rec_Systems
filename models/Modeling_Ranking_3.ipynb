{
  "nbformat": 4,
  "nbformat_minor": 0,
  "metadata": {
    "colab": {
      "provenance": [],
      "collapsed_sections": [],
      "toc_visible": true,
      "machine_shape": "hm"
    },
    "kernelspec": {
      "name": "python3",
      "display_name": "Python 3"
    },
    "language_info": {
      "name": "python"
    },
    "accelerator": "GPU",
    "gpuClass": "premium"
  },
  "cells": [
    {
      "cell_type": "markdown",
      "source": [
        "# Modeling - Ranking_3"
      ],
      "metadata": {
        "id": "COoGA8SWdThK"
      }
    },
    {
      "cell_type": "markdown",
      "source": [
        "The ranking stage takes the outputs of the retrieval model and fine-tunes them to select the best possible handful of recommendations. Its task is to narrow down the set of items the user may be interested in to a shortlist of likely candidates."
      ],
      "metadata": {
        "id": "m8HGQNRtdtIg"
      }
    },
    {
      "cell_type": "code",
      "execution_count": 1,
      "metadata": {
        "colab": {
          "base_uri": "https://localhost:8080/"
        },
        "id": "_bxeyfL3IxGw",
        "outputId": "75407012-3f01-47f8-bbf3-dbbe4d3ef3cb"
      },
      "outputs": [
        {
          "output_type": "stream",
          "name": "stdout",
          "text": [
            "\u001b[K     |████████████████████████████████| 89 kB 5.9 MB/s \n",
            "\u001b[K     |████████████████████████████████| 4.7 MB 17.3 MB/s \n",
            "\u001b[K     |████████████████████████████████| 10.4 MB 12.4 MB/s \n",
            "\u001b[K     |████████████████████████████████| 578.0 MB 14 kB/s \n",
            "\u001b[K     |████████████████████████████████| 438 kB 84.1 MB/s \n",
            "\u001b[K     |████████████████████████████████| 1.7 MB 56.3 MB/s \n",
            "\u001b[K     |████████████████████████████████| 5.9 MB 45.4 MB/s \n",
            "\u001b[?25h"
          ]
        }
      ],
      "source": [
        "# install libraries\n",
        "! pip install -q tensorflow-recommenders\n",
        "! pip install -q --upgrade tensorflow-datasets\n",
        "! pip install -q scann"
      ]
    },
    {
      "cell_type": "code",
      "source": [
        "# import libraries\n",
        "import os\n",
        "import pprint\n",
        "import tempfile\n",
        "\n",
        "from typing import Dict, Text\n",
        "\n",
        "import numpy as np\n",
        "import pandas as pd\n",
        "import matplotlib.pyplot as plt\n",
        "import seaborn as sns\n",
        "\n",
        "import tensorflow as tf\n",
        "import tensorflow_datasets as tfds\n",
        "from tensorflow import keras\n",
        "from tensorflow.keras import layers\n",
        "import tensorflow_recommenders as tfrs\n",
        "\n",
        "# import interactive table \n",
        "from google.colab import data_table\n",
        "data_table.enable_dataframe_formatter()\n",
        "\n",
        "# set seed\n",
        "tf.random.set_seed(42)"
      ],
      "metadata": {
        "id": "OwzfCCHIdF3V"
      },
      "execution_count": 2,
      "outputs": []
    },
    {
      "cell_type": "code",
      "source": [
        "# mount G-Drive and load data\n",
        "from google.colab import drive\n",
        "drive.mount('/content/drive')\n",
        "\n",
        "# load data subset \n",
        "gdrive_path = '/content/drive/MyDrive/ModelingData'\n",
        "path = os.path.join(gdrive_path, \"ratings\")\n",
        "\n",
        "ratings = tf.data.Dataset.load(path)"
      ],
      "metadata": {
        "colab": {
          "base_uri": "https://localhost:8080/"
        },
        "id": "i4Km7Hv1eANj",
        "outputId": "4519648b-27f2-4f43-fe2b-6ae80976f79a"
      },
      "execution_count": 3,
      "outputs": [
        {
          "output_type": "stream",
          "name": "stdout",
          "text": [
            "Mounted at /content/drive\n"
          ]
        }
      ]
    },
    {
      "cell_type": "markdown",
      "source": [
        "### Preparing the dataset"
      ],
      "metadata": {
        "id": "xtxyrAUBe9xN"
      }
    },
    {
      "cell_type": "code",
      "source": [
        "# Select the basic features.\n",
        "ratings = ratings.map(lambda x: {\n",
        "    'product_title': x['data']['product_title'], \n",
        "    'customer_id': x['data']['customer_id'], \n",
        "    'star_rating': x['data']['star_rating']\n",
        "})\n"
      ],
      "metadata": {
        "id": "417rVSjxeE5s"
      },
      "execution_count": 4,
      "outputs": []
    },
    {
      "cell_type": "code",
      "source": [
        "# train-test split: 80-20\n",
        "tf.random.set_seed(42)\n",
        "shuffled = ratings.shuffle(92_096, seed=42, reshuffle_each_iteration=False)\n",
        "\n",
        "train = shuffled.take(92_096)\n",
        "test = shuffled.skip(92_096).take(23_024)"
      ],
      "metadata": {
        "id": "-izdY4sxfxbH"
      },
      "execution_count": 5,
      "outputs": []
    },
    {
      "cell_type": "code",
      "source": [
        "# vocabulary to map raw feature values to embedding vectors\n",
        "product_titles = ratings.batch(50_000).map(lambda x: x['product_title'])\n",
        "customer_ids = ratings.batch(110_000).map(lambda x: x['customer_id'])\n",
        "\n",
        "unique_product_titles = np.unique(np.concatenate(list(product_titles)))\n",
        "unique_customer_ids = np.unique(np.concatenate(list(customer_ids)))\n",
        "\n",
        "unique_product_titles[:10]"
      ],
      "metadata": {
        "colab": {
          "base_uri": "https://localhost:8080/"
        },
        "id": "GXzbB0_pgGLX",
        "outputId": "38758487-ece2-4dc1-ecc5-df9c9c78b1b6"
      },
      "execution_count": 6,
      "outputs": [
        {
          "output_type": "execute_result",
          "data": {
            "text/plain": [
              "array([b'! Set 7 Colors Small S Replacement Bands + 1pc Free Small Grey Band With Clasp for Fitbit FLEX Only /No tracker/ 1pc Teal (Blue/Grey) 1pc Purple / Pink 1pc Red (Tangerine) 1pc Green 1pc Slate (Blue/Grey) 1pc Black 1pc Navy (Blue) Bands Wireless Activity Bracelet Sport Wristband Fit Bit Flex Bracelet Sport Arm Band Armband',\n",
              "       b'! Small S 1pc Green 1pc Teal (Blue/Green) 1pc Red (Tangerine) Replacement Bands + 1pc Free Small Grey Band With Clasp for Fitbit FLEX Only /No tracker/ Wireless Activity Bracelet Sport Wristband Fit Bit Flex Bracelet Sport Arm Band Armband',\n",
              "       b'! Small S 1pc Teal (Blue/Green) 1pc Purple / Pink Replacement Bands + 1pc Free Small Grey Band With Clasp for Fitbit FLEX Only /No tracker/ Wireless Activity Bracelet Sport Wristband Fit Bit Flex Bracelet Sport Arm Band Armband',\n",
              "       b'\"\"\"SEASON SPECIAL\"\"\"THE ORIGINAL HEAVY DUTY BIG GRIZZLY COT-HEAVY DUTY QUALITY w/ IPHONE Holder & Drink Holder-High Quality Product-10 YEARS WARRANTY-84\\xe2\\x80\\x9d L x 32\\xe2\\x80\\x9d W x 9\\xe2\\x80\\x9d H ---A BONUS SOLAR RECHARGEABLE LED FLASHLIGHT INCLUDED WITH YOUR COT...280 LBS. MAX WEIGHT CAPACITY',\n",
              "       b'\"\"\"SEASON SPECIAL\"\"HEAVY-DUTY OASIS MARINE CHAIR W/ UNIQUE NON-SKID DESIGN-Side Table & Cup Holder-5 Years Warranty-',\n",
              "       b'\"\"SEASON SPECIAL\"\"NEW & IMPROVED!! HEAVY-DUTY OVERSIZE Oasis COOL CHAIR-TOP OF THE LINE CONSTRUCTION- 10 YEARS WARRANTY-A BONUS SOLAR RECHARGEABLE LED FLASHLIGHT INCLUDED WITH YOUR PURCHASE....BUY TWO CHAIRS AND RECEIVE A BONUS COOLER BAG!!!',\n",
              "       b'\"Biker Chick\" Gremlin Bell',\n",
              "       b'\"Bomber Irie Bomb Floating Sunglasses',\n",
              "       b'\"Candy Apple Red\" Zippo Lighter Gift Set',\n",
              "       b'\"Chasing the Lotus\" Surfing DVD'], dtype=object)"
            ]
          },
          "metadata": {},
          "execution_count": 6
        }
      ]
    },
    {
      "cell_type": "markdown",
      "source": [
        "### Implementing a model"
      ],
      "metadata": {
        "id": "DdX4qSxMhJdk"
      }
    },
    {
      "cell_type": "markdown",
      "source": [
        "#### Architecture"
      ],
      "metadata": {
        "id": "dQtGnrUwhPCH"
      }
    },
    {
      "cell_type": "code",
      "source": [
        "class RankingModel(tf.keras.Model):\n",
        "\n",
        "  def __init__(self):\n",
        "    super().__init__()\n",
        "    embedding_dimension = 32\n",
        "\n",
        "    # Compute embeddings for users.\n",
        "    self.user_embeddings = tf.keras.Sequential([\n",
        "      tf.keras.layers.StringLookup(\n",
        "        vocabulary = unique_customer_ids, mask_token=None),\n",
        "      tf.keras.layers.Embedding(len(unique_customer_ids) + 1, embedding_dimension)\n",
        "    ])\n",
        "\n",
        "    # Compute embeddings for products.\n",
        "    self.product_embeddings = tf.keras.Sequential([\n",
        "      tf.keras.layers.StringLookup(\n",
        "        vocabulary=unique_product_titles, mask_token=None),\n",
        "      tf.keras.layers.Embedding(len(unique_product_titles) + 1, embedding_dimension)\n",
        "    ])\n",
        "\n",
        "    # Compute predictions.\n",
        "    self.ratings = tf.keras.Sequential([\n",
        "      # Learn multiple dense layers.\n",
        "      tf.keras.layers.Dense(256, activation=\"relu\"),\n",
        "      tf.keras.layers.Dense(64, activation=\"relu\"),\n",
        "      # Make rating predictions in the final layer.\n",
        "      tf.keras.layers.Dense(1)\n",
        "  ])\n",
        "\n",
        "  def call(self, inputs):\n",
        "\n",
        "    user_id, product_title = inputs\n",
        "\n",
        "    user_embedding = self.user_embeddings(user_id)\n",
        "    product_embedding = self.product_embeddings(product_title)\n",
        "\n",
        "    return self.ratings(tf.concat([user_embedding, product_embedding], axis=1))"
      ],
      "metadata": {
        "id": "Mgz4_O-vgQfz"
      },
      "execution_count": 7,
      "outputs": []
    },
    {
      "cell_type": "markdown",
      "source": [
        "#### Loss and Metrics"
      ],
      "metadata": {
        "id": "Y6EKvYValE7e"
      }
    },
    {
      "cell_type": "code",
      "source": [
        "# using Ranking object to wrap together the loss function and metrics\n",
        "task = tfrs.tasks.Ranking(\n",
        "  loss = tf.keras.losses.MeanSquaredError(),\n",
        "  metrics=[tf.keras.metrics.RootMeanSquaredError()]\n",
        ")"
      ],
      "metadata": {
        "id": "Zgi1gkdLj0oM"
      },
      "execution_count": 8,
      "outputs": []
    },
    {
      "cell_type": "markdown",
      "source": [
        "#### The full model"
      ],
      "metadata": {
        "id": "DHKwR530mGrX"
      }
    },
    {
      "cell_type": "code",
      "source": [
        "class AmazonRankingModel(tfrs.models.Model):\n",
        "\n",
        "  def __init__(self):\n",
        "    super().__init__()\n",
        "    self.ranking_model: tf.keras.Model = RankingModel()\n",
        "    self.task: tf.keras.layers.Layer = tfrs.tasks.Ranking(\n",
        "      loss = tf.keras.losses.MeanSquaredError(),\n",
        "      metrics=[tf.keras.metrics.RootMeanSquaredError()]\n",
        "    )\n",
        "\n",
        "  def call(self, features: Dict[str, tf.Tensor]) -> tf.Tensor:\n",
        "    return self.ranking_model(\n",
        "        (features[\"customer_id\"], features[\"product_title\"]))\n",
        "\n",
        "  def compute_loss(self, features: Dict[Text, tf.Tensor], training=False) -> tf.Tensor:\n",
        "    labels = features.pop(\"star_rating\")\n",
        "\n",
        "    rating_predictions = self(features)\n",
        "\n",
        "    # The task computes the loss and the metrics.\n",
        "    return self.task(labels=labels, predictions=rating_predictions)"
      ],
      "metadata": {
        "id": "lc1vLxHTlMZt"
      },
      "execution_count": 9,
      "outputs": []
    },
    {
      "cell_type": "markdown",
      "source": [
        "### Fitting and evaluation"
      ],
      "metadata": {
        "id": "I4AOBnpRnDT1"
      }
    },
    {
      "cell_type": "code",
      "source": [
        "model_ranking = AmazonRankingModel()\n",
        "model_ranking.compile(optimizer=tf.keras.optimizers.Adagrad(learning_rate=0.1))"
      ],
      "metadata": {
        "id": "uSq9314JnGSt"
      },
      "execution_count": 10,
      "outputs": []
    },
    {
      "cell_type": "code",
      "source": [
        "# shuffle, batch and cache the training and test data\n",
        "\n",
        "cached_train = train.shuffle(100_000).batch(8192).cache()\n",
        "cached_test = test.batch(4096).cache()"
      ],
      "metadata": {
        "id": "nPOVbos4nY6N"
      },
      "execution_count": 11,
      "outputs": []
    },
    {
      "cell_type": "code",
      "source": [
        "model_ranking.fit(cached_train, epochs=30)"
      ],
      "metadata": {
        "colab": {
          "base_uri": "https://localhost:8080/"
        },
        "id": "0DOdYK0HnpQg",
        "outputId": "3698f47c-567c-4221-bba4-bc2bae88dbea"
      },
      "execution_count": 12,
      "outputs": [
        {
          "output_type": "stream",
          "name": "stdout",
          "text": [
            "Epoch 1/30\n",
            "12/12 [==============================] - 8s 24ms/step - root_mean_squared_error: 2.6872 - loss: 6.4410 - regularization_loss: 0.0000e+00 - total_loss: 6.4410\n",
            "Epoch 2/30\n",
            "12/12 [==============================] - 0s 6ms/step - root_mean_squared_error: 1.2090 - loss: 1.4598 - regularization_loss: 0.0000e+00 - total_loss: 1.4598\n",
            "Epoch 3/30\n",
            "12/12 [==============================] - 0s 6ms/step - root_mean_squared_error: 1.2084 - loss: 1.4581 - regularization_loss: 0.0000e+00 - total_loss: 1.4581\n",
            "Epoch 4/30\n",
            "12/12 [==============================] - 0s 6ms/step - root_mean_squared_error: 1.2078 - loss: 1.4565 - regularization_loss: 0.0000e+00 - total_loss: 1.4565\n",
            "Epoch 5/30\n",
            "12/12 [==============================] - 0s 6ms/step - root_mean_squared_error: 1.2073 - loss: 1.4550 - regularization_loss: 0.0000e+00 - total_loss: 1.4550\n",
            "Epoch 6/30\n",
            "12/12 [==============================] - 0s 6ms/step - root_mean_squared_error: 1.2068 - loss: 1.4535 - regularization_loss: 0.0000e+00 - total_loss: 1.4535\n",
            "Epoch 7/30\n",
            "12/12 [==============================] - 0s 6ms/step - root_mean_squared_error: 1.2063 - loss: 1.4518 - regularization_loss: 0.0000e+00 - total_loss: 1.4518\n",
            "Epoch 8/30\n",
            "12/12 [==============================] - 0s 6ms/step - root_mean_squared_error: 1.2057 - loss: 1.4500 - regularization_loss: 0.0000e+00 - total_loss: 1.4500\n",
            "Epoch 9/30\n",
            "12/12 [==============================] - 0s 6ms/step - root_mean_squared_error: 1.2050 - loss: 1.4479 - regularization_loss: 0.0000e+00 - total_loss: 1.4479\n",
            "Epoch 10/30\n",
            "12/12 [==============================] - 0s 6ms/step - root_mean_squared_error: 1.2043 - loss: 1.4454 - regularization_loss: 0.0000e+00 - total_loss: 1.4454\n",
            "Epoch 11/30\n",
            "12/12 [==============================] - 0s 6ms/step - root_mean_squared_error: 1.2034 - loss: 1.4426 - regularization_loss: 0.0000e+00 - total_loss: 1.4426\n",
            "Epoch 12/30\n",
            "12/12 [==============================] - 0s 6ms/step - root_mean_squared_error: 1.2023 - loss: 1.4393 - regularization_loss: 0.0000e+00 - total_loss: 1.4393\n",
            "Epoch 13/30\n",
            "12/12 [==============================] - 0s 6ms/step - root_mean_squared_error: 1.2011 - loss: 1.4354 - regularization_loss: 0.0000e+00 - total_loss: 1.4354\n",
            "Epoch 14/30\n",
            "12/12 [==============================] - 0s 6ms/step - root_mean_squared_error: 1.1998 - loss: 1.4309 - regularization_loss: 0.0000e+00 - total_loss: 1.4309\n",
            "Epoch 15/30\n",
            "12/12 [==============================] - 0s 6ms/step - root_mean_squared_error: 1.1982 - loss: 1.4257 - regularization_loss: 0.0000e+00 - total_loss: 1.4257\n",
            "Epoch 16/30\n",
            "12/12 [==============================] - 0s 6ms/step - root_mean_squared_error: 1.1963 - loss: 1.4196 - regularization_loss: 0.0000e+00 - total_loss: 1.4196\n",
            "Epoch 17/30\n",
            "12/12 [==============================] - 0s 6ms/step - root_mean_squared_error: 1.1941 - loss: 1.4125 - regularization_loss: 0.0000e+00 - total_loss: 1.4125\n",
            "Epoch 18/30\n",
            "12/12 [==============================] - 0s 6ms/step - root_mean_squared_error: 1.1916 - loss: 1.4042 - regularization_loss: 0.0000e+00 - total_loss: 1.4042\n",
            "Epoch 19/30\n",
            "12/12 [==============================] - 0s 5ms/step - root_mean_squared_error: 1.1887 - loss: 1.3947 - regularization_loss: 0.0000e+00 - total_loss: 1.3947\n",
            "Epoch 20/30\n",
            "12/12 [==============================] - 0s 6ms/step - root_mean_squared_error: 1.1854 - loss: 1.3838 - regularization_loss: 0.0000e+00 - total_loss: 1.3838\n",
            "Epoch 21/30\n",
            "12/12 [==============================] - 0s 6ms/step - root_mean_squared_error: 1.1816 - loss: 1.3712 - regularization_loss: 0.0000e+00 - total_loss: 1.3712\n",
            "Epoch 22/30\n",
            "12/12 [==============================] - 0s 6ms/step - root_mean_squared_error: 1.1773 - loss: 1.3569 - regularization_loss: 0.0000e+00 - total_loss: 1.3569\n",
            "Epoch 23/30\n",
            "12/12 [==============================] - 0s 6ms/step - root_mean_squared_error: 1.1723 - loss: 1.3407 - regularization_loss: 0.0000e+00 - total_loss: 1.3407\n",
            "Epoch 24/30\n",
            "12/12 [==============================] - 0s 6ms/step - root_mean_squared_error: 1.1666 - loss: 1.3222 - regularization_loss: 0.0000e+00 - total_loss: 1.3222\n",
            "Epoch 25/30\n",
            "12/12 [==============================] - 0s 6ms/step - root_mean_squared_error: 1.1601 - loss: 1.3015 - regularization_loss: 0.0000e+00 - total_loss: 1.3015\n",
            "Epoch 26/30\n",
            "12/12 [==============================] - 0s 6ms/step - root_mean_squared_error: 1.1528 - loss: 1.2784 - regularization_loss: 0.0000e+00 - total_loss: 1.2784\n",
            "Epoch 27/30\n",
            "12/12 [==============================] - 0s 5ms/step - root_mean_squared_error: 1.1446 - loss: 1.2528 - regularization_loss: 0.0000e+00 - total_loss: 1.2528\n",
            "Epoch 28/30\n",
            "12/12 [==============================] - 0s 6ms/step - root_mean_squared_error: 1.1355 - loss: 1.2248 - regularization_loss: 0.0000e+00 - total_loss: 1.2248\n",
            "Epoch 29/30\n",
            "12/12 [==============================] - 0s 6ms/step - root_mean_squared_error: 1.1252 - loss: 1.1944 - regularization_loss: 0.0000e+00 - total_loss: 1.1944\n",
            "Epoch 30/30\n",
            "12/12 [==============================] - 0s 5ms/step - root_mean_squared_error: 1.1139 - loss: 1.1619 - regularization_loss: 0.0000e+00 - total_loss: 1.1619\n"
          ]
        },
        {
          "output_type": "execute_result",
          "data": {
            "text/plain": [
              "<keras.callbacks.History at 0x7f7bfa06b910>"
            ]
          },
          "metadata": {},
          "execution_count": 12
        }
      ]
    },
    {
      "cell_type": "code",
      "source": [
        "model_ranking.evaluate(cached_test, return_dict=True)"
      ],
      "metadata": {
        "colab": {
          "base_uri": "https://localhost:8080/"
        },
        "id": "keMbqzlYnt26",
        "outputId": "d93f37b2-ffdf-4cad-b8d3-c9694dcd92d6"
      },
      "execution_count": 13,
      "outputs": [
        {
          "output_type": "stream",
          "name": "stdout",
          "text": [
            "6/6 [==============================] - 6s 15ms/step - root_mean_squared_error: 1.2444 - loss: 1.5612 - regularization_loss: 0.0000e+00 - total_loss: 1.5612\n"
          ]
        },
        {
          "output_type": "execute_result",
          "data": {
            "text/plain": [
              "{'root_mean_squared_error': 1.2444056272506714,\n",
              " 'loss': 1.612769603729248,\n",
              " 'regularization_loss': 0,\n",
              " 'total_loss': 1.612769603729248}"
            ]
          },
          "metadata": {},
          "execution_count": 13
        }
      ]
    },
    {
      "cell_type": "markdown",
      "source": [
        "### Testing and ranking model"
      ],
      "metadata": {
        "id": "Mznea4jcpFbt"
      }
    },
    {
      "cell_type": "code",
      "source": [
        "test_ratings = {}\n",
        "test_product_titles = ['WaterVault Thermos Water Bottle - Double Insulated Copper Plated Stainless Steel - Keeps Hot 12 Hours, Cold up to 36 - BPA-Free (12oz, 17oz, 26oz, 1 liter) Assorted Colors',\n",
        "       'Bomber Irie Bomb Floating Sunglasses',\n",
        "       'Vader Bicycle Cycling Bike Road Offroad MTB Mountain Saddle Seat']\n",
        "for product_title in test_product_titles:\n",
        "  test_ratings[product_title] = model_ranking({\n",
        "      \"customer_id\": np.array([\"52228204\"]),\n",
        "      \"product_title\": np.array([product_title])\n",
        "  })\n",
        "\n",
        "print(\"Ratings:\")\n",
        "for title, score in sorted(test_ratings.items(), key=lambda x: x[1], reverse=True):\n",
        "  print(f\"{title}: {score}\")"
      ],
      "metadata": {
        "colab": {
          "base_uri": "https://localhost:8080/"
        },
        "id": "fi1agIAvodlo",
        "outputId": "134ef5ff-bdd9-4edf-9a1e-8a5818b4608b"
      },
      "execution_count": 19,
      "outputs": [
        {
          "output_type": "stream",
          "name": "stdout",
          "text": [
            "Ratings:\n",
            "WaterVault Thermos Water Bottle - Double Insulated Copper Plated Stainless Steel - Keeps Hot 12 Hours, Cold up to 36 - BPA-Free (12oz, 17oz, 26oz, 1 liter) Assorted Colors: [[4.6428814]]\n",
            "Vader Bicycle Cycling Bike Road Offroad MTB Mountain Saddle Seat: [[4.397792]]\n",
            "Bomber Irie Bomb Floating Sunglasses: [[4.1441364]]\n"
          ]
        }
      ]
    },
    {
      "cell_type": "markdown",
      "source": [
        "### Exporting for serving"
      ],
      "metadata": {
        "id": "Cb1GlorFvE6a"
      }
    },
    {
      "cell_type": "code",
      "source": [
        "# model serving: saving the model to G-Drive\n",
        "\n",
        "# Export the query model.\n",
        "gdrive_path = '/content/drive/MyDrive/Models'\n",
        "path = os.path.join(gdrive_path, \"model_ranking\")\n",
        "\n",
        "# Save model\n",
        "tf.saved_model.save(model_ranking, path)"
      ],
      "metadata": {
        "colab": {
          "base_uri": "https://localhost:8080/"
        },
        "id": "26sTLiDKsnkf",
        "outputId": "1624b286-c29f-43a9-c86a-7b91b797e1ff"
      },
      "execution_count": 15,
      "outputs": [
        {
          "output_type": "stream",
          "name": "stderr",
          "text": [
            "WARNING:absl:Found untraced functions such as ranking_1_layer_call_fn, ranking_1_layer_call_and_return_conditional_losses while saving (showing 2 of 2). These functions will not be directly callable after loading.\n"
          ]
        }
      ]
    },
    {
      "cell_type": "code",
      "source": [
        "loaded = tf.saved_model.load(path)\n",
        "\n",
        "loaded({\"customer_id\": np.array([\"52228204\"]), \"product_title\": ['WaterVault Thermos Water Bottle - Double Insulated Copper Plated Stainless Steel - Keeps Hot 12 Hours, Cold up to 36 - BPA-Free (12oz, 17oz, 26oz, 1 liter) Assorted Colors']}).numpy()"
      ],
      "metadata": {
        "colab": {
          "base_uri": "https://localhost:8080/"
        },
        "id": "ELQDlAHswFv3",
        "outputId": "c1e4bbcc-92d6-49b4-f777-518f783e0ead"
      },
      "execution_count": 16,
      "outputs": [
        {
          "output_type": "execute_result",
          "data": {
            "text/plain": [
              "array([[4.6428814]], dtype=float32)"
            ]
          },
          "metadata": {},
          "execution_count": 16
        }
      ]
    },
    {
      "cell_type": "markdown",
      "source": [
        "### Convert the model to TensorFlow Lite"
      ],
      "metadata": {
        "id": "WMCdhHRo0njx"
      }
    },
    {
      "cell_type": "markdown",
      "source": [
        "TensorFlow Lite allows a model to be ran on any device. "
      ],
      "metadata": {
        "id": "yHW2ms8K0xXW"
      }
    },
    {
      "cell_type": "code",
      "source": [
        "converter = tf.lite.TFLiteConverter.from_saved_model(path)\n",
        "tflite_model = converter.convert()\n",
        "open(\"converted_model.tflite\", \"wb\").write(tflite_model)"
      ],
      "metadata": {
        "colab": {
          "base_uri": "https://localhost:8080/"
        },
        "id": "8_-uown6wU35",
        "outputId": "a317aff6-425f-4670-ce2f-2ce3e5d29673"
      },
      "execution_count": 17,
      "outputs": [
        {
          "output_type": "execute_result",
          "data": {
            "text/plain": [
              "25364012"
            ]
          },
          "metadata": {},
          "execution_count": 17
        }
      ]
    },
    {
      "cell_type": "code",
      "source": [
        "interpreter = tf.lite.Interpreter(model_path=\"converted_model.tflite\")\n",
        "interpreter.allocate_tensors()\n",
        "\n",
        "# Get input and output tensors.\n",
        "input_details = interpreter.get_input_details()\n",
        "output_details = interpreter.get_output_details()\n",
        "\n",
        "# Test the model.\n",
        "if input_details[0][\"name\"] == \"serving_default_movie_title:0\":\n",
        "  interpreter.set_tensor(input_details[0][\"index\"], np.array([\"Stearns Sospenders Manual Inflatable Life Jacket\"]))\n",
        "  interpreter.set_tensor(input_details[1][\"index\"], np.array([\"52228204\"]))\n",
        "else:\n",
        "  interpreter.set_tensor(input_details[0][\"index\"], np.array([\"52228204\"]))\n",
        "  interpreter.set_tensor(input_details[1][\"index\"], np.array([\"Stearns Sospenders Manual Inflatable Life Jacket\"]))\n",
        "\n",
        "interpreter.invoke()\n",
        "\n",
        "rating = interpreter.get_tensor(output_details[0]['index'])\n",
        "print(rating)"
      ],
      "metadata": {
        "colab": {
          "base_uri": "https://localhost:8080/"
        },
        "id": "gte3VQmV1L-f",
        "outputId": "5aaf23a1-ef1f-4822-e8d3-f5182461ec6f"
      },
      "execution_count": 21,
      "outputs": [
        {
          "output_type": "stream",
          "name": "stdout",
          "text": [
            "[[4.192669]]\n"
          ]
        }
      ]
    }
  ]
}
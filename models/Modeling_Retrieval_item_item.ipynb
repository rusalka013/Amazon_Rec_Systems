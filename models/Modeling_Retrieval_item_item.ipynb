{
  "nbformat": 4,
  "nbformat_minor": 0,
  "metadata": {
    "colab": {
      "provenance": [],
      "collapsed_sections": [],
      "toc_visible": true,
      "machine_shape": "hm"
    },
    "kernelspec": {
      "name": "python3",
      "display_name": "Python 3"
    },
    "language_info": {
      "name": "python"
    },
    "accelerator": "GPU",
    "gpuClass": "premium"
  },
  "cells": [
    {
      "cell_type": "markdown",
      "source": [
        "# Retrieval model: item-to-item\n",
        "\n",
        "\n"
      ],
      "metadata": {
        "id": "oVmLzgzO_qey"
      }
    },
    {
      "cell_type": "markdown",
      "source": [
        "The second model that we are planning to build has similar architecture to the 1st model, but in this case we will use two product models for both queery and candidate models."
      ],
      "metadata": {
        "id": "ag6ftqYHFCiE"
      }
    },
    {
      "cell_type": "markdown",
      "source": [
        "### Imports"
      ],
      "metadata": {
        "id": "_MiQ_T6U_zdZ"
      }
    },
    {
      "cell_type": "code",
      "execution_count": 1,
      "metadata": {
        "colab": {
          "base_uri": "https://localhost:8080/"
        },
        "id": "o85tAgdr_g6A",
        "outputId": "1b9e8b47-03e6-48f8-bf1f-4c3c044be101"
      },
      "outputs": [
        {
          "output_type": "stream",
          "name": "stdout",
          "text": [
            "Looking in indexes: https://pypi.org/simple, https://us-python.pkg.dev/colab-wheels/public/simple/\n",
            "Requirement already satisfied: tensorflow in /usr/local/lib/python3.7/dist-packages (2.9.2)\n",
            "Requirement already satisfied: setuptools in /usr/local/lib/python3.7/dist-packages (from tensorflow) (57.4.0)\n",
            "Requirement already satisfied: flatbuffers<2,>=1.12 in /usr/local/lib/python3.7/dist-packages (from tensorflow) (1.12)\n",
            "Requirement already satisfied: six>=1.12.0 in /usr/local/lib/python3.7/dist-packages (from tensorflow) (1.15.0)\n",
            "Requirement already satisfied: tensorboard<2.10,>=2.9 in /usr/local/lib/python3.7/dist-packages (from tensorflow) (2.9.1)\n",
            "Requirement already satisfied: wrapt>=1.11.0 in /usr/local/lib/python3.7/dist-packages (from tensorflow) (1.14.1)\n",
            "Requirement already satisfied: numpy>=1.20 in /usr/local/lib/python3.7/dist-packages (from tensorflow) (1.21.6)\n",
            "Requirement already satisfied: keras-preprocessing>=1.1.1 in /usr/local/lib/python3.7/dist-packages (from tensorflow) (1.1.2)\n",
            "Requirement already satisfied: libclang>=13.0.0 in /usr/local/lib/python3.7/dist-packages (from tensorflow) (14.0.6)\n",
            "Requirement already satisfied: google-pasta>=0.1.1 in /usr/local/lib/python3.7/dist-packages (from tensorflow) (0.2.0)\n",
            "Requirement already satisfied: tensorflow-io-gcs-filesystem>=0.23.1 in /usr/local/lib/python3.7/dist-packages (from tensorflow) (0.27.0)\n",
            "Requirement already satisfied: termcolor>=1.1.0 in /usr/local/lib/python3.7/dist-packages (from tensorflow) (2.0.1)\n",
            "Requirement already satisfied: opt-einsum>=2.3.2 in /usr/local/lib/python3.7/dist-packages (from tensorflow) (3.3.0)\n",
            "Requirement already satisfied: typing-extensions>=3.6.6 in /usr/local/lib/python3.7/dist-packages (from tensorflow) (4.1.1)\n",
            "Requirement already satisfied: absl-py>=1.0.0 in /usr/local/lib/python3.7/dist-packages (from tensorflow) (1.2.0)\n",
            "Requirement already satisfied: grpcio<2.0,>=1.24.3 in /usr/local/lib/python3.7/dist-packages (from tensorflow) (1.49.1)\n",
            "Requirement already satisfied: h5py>=2.9.0 in /usr/local/lib/python3.7/dist-packages (from tensorflow) (3.1.0)\n",
            "Requirement already satisfied: packaging in /usr/local/lib/python3.7/dist-packages (from tensorflow) (21.3)\n",
            "Requirement already satisfied: keras<2.10.0,>=2.9.0rc0 in /usr/local/lib/python3.7/dist-packages (from tensorflow) (2.9.0)\n",
            "Requirement already satisfied: astunparse>=1.6.0 in /usr/local/lib/python3.7/dist-packages (from tensorflow) (1.6.3)\n",
            "Requirement already satisfied: protobuf<3.20,>=3.9.2 in /usr/local/lib/python3.7/dist-packages (from tensorflow) (3.17.3)\n",
            "Requirement already satisfied: tensorflow-estimator<2.10.0,>=2.9.0rc0 in /usr/local/lib/python3.7/dist-packages (from tensorflow) (2.9.0)\n",
            "Requirement already satisfied: gast<=0.4.0,>=0.2.1 in /usr/local/lib/python3.7/dist-packages (from tensorflow) (0.4.0)\n",
            "Requirement already satisfied: wheel<1.0,>=0.23.0 in /usr/local/lib/python3.7/dist-packages (from astunparse>=1.6.0->tensorflow) (0.37.1)\n",
            "Requirement already satisfied: cached-property in /usr/local/lib/python3.7/dist-packages (from h5py>=2.9.0->tensorflow) (1.5.2)\n",
            "Requirement already satisfied: google-auth<3,>=1.6.3 in /usr/local/lib/python3.7/dist-packages (from tensorboard<2.10,>=2.9->tensorflow) (1.35.0)\n",
            "Requirement already satisfied: google-auth-oauthlib<0.5,>=0.4.1 in /usr/local/lib/python3.7/dist-packages (from tensorboard<2.10,>=2.9->tensorflow) (0.4.6)\n",
            "Requirement already satisfied: markdown>=2.6.8 in /usr/local/lib/python3.7/dist-packages (from tensorboard<2.10,>=2.9->tensorflow) (3.4.1)\n",
            "Requirement already satisfied: tensorboard-plugin-wit>=1.6.0 in /usr/local/lib/python3.7/dist-packages (from tensorboard<2.10,>=2.9->tensorflow) (1.8.1)\n",
            "Requirement already satisfied: werkzeug>=1.0.1 in /usr/local/lib/python3.7/dist-packages (from tensorboard<2.10,>=2.9->tensorflow) (1.0.1)\n",
            "Requirement already satisfied: requests<3,>=2.21.0 in /usr/local/lib/python3.7/dist-packages (from tensorboard<2.10,>=2.9->tensorflow) (2.23.0)\n",
            "Requirement already satisfied: tensorboard-data-server<0.7.0,>=0.6.0 in /usr/local/lib/python3.7/dist-packages (from tensorboard<2.10,>=2.9->tensorflow) (0.6.1)\n",
            "Requirement already satisfied: pyasn1-modules>=0.2.1 in /usr/local/lib/python3.7/dist-packages (from google-auth<3,>=1.6.3->tensorboard<2.10,>=2.9->tensorflow) (0.2.8)\n",
            "Requirement already satisfied: rsa<5,>=3.1.4 in /usr/local/lib/python3.7/dist-packages (from google-auth<3,>=1.6.3->tensorboard<2.10,>=2.9->tensorflow) (4.9)\n",
            "Requirement already satisfied: cachetools<5.0,>=2.0.0 in /usr/local/lib/python3.7/dist-packages (from google-auth<3,>=1.6.3->tensorboard<2.10,>=2.9->tensorflow) (4.2.4)\n",
            "Requirement already satisfied: requests-oauthlib>=0.7.0 in /usr/local/lib/python3.7/dist-packages (from google-auth-oauthlib<0.5,>=0.4.1->tensorboard<2.10,>=2.9->tensorflow) (1.3.1)\n",
            "Requirement already satisfied: importlib-metadata>=4.4 in /usr/local/lib/python3.7/dist-packages (from markdown>=2.6.8->tensorboard<2.10,>=2.9->tensorflow) (5.0.0)\n",
            "Requirement already satisfied: zipp>=0.5 in /usr/local/lib/python3.7/dist-packages (from importlib-metadata>=4.4->markdown>=2.6.8->tensorboard<2.10,>=2.9->tensorflow) (3.9.0)\n",
            "Requirement already satisfied: pyasn1<0.5.0,>=0.4.6 in /usr/local/lib/python3.7/dist-packages (from pyasn1-modules>=0.2.1->google-auth<3,>=1.6.3->tensorboard<2.10,>=2.9->tensorflow) (0.4.8)\n",
            "Requirement already satisfied: chardet<4,>=3.0.2 in /usr/local/lib/python3.7/dist-packages (from requests<3,>=2.21.0->tensorboard<2.10,>=2.9->tensorflow) (3.0.4)\n",
            "Requirement already satisfied: urllib3!=1.25.0,!=1.25.1,<1.26,>=1.21.1 in /usr/local/lib/python3.7/dist-packages (from requests<3,>=2.21.0->tensorboard<2.10,>=2.9->tensorflow) (1.24.3)\n",
            "Requirement already satisfied: idna<3,>=2.5 in /usr/local/lib/python3.7/dist-packages (from requests<3,>=2.21.0->tensorboard<2.10,>=2.9->tensorflow) (2.10)\n",
            "Requirement already satisfied: certifi>=2017.4.17 in /usr/local/lib/python3.7/dist-packages (from requests<3,>=2.21.0->tensorboard<2.10,>=2.9->tensorflow) (2022.9.24)\n",
            "Requirement already satisfied: oauthlib>=3.0.0 in /usr/local/lib/python3.7/dist-packages (from requests-oauthlib>=0.7.0->google-auth-oauthlib<0.5,>=0.4.1->tensorboard<2.10,>=2.9->tensorflow) (3.2.1)\n",
            "Requirement already satisfied: pyparsing!=3.0.5,>=2.0.2 in /usr/local/lib/python3.7/dist-packages (from packaging->tensorflow) (3.0.9)\n"
          ]
        }
      ],
      "source": [
        "! pip install tensorflow"
      ]
    },
    {
      "cell_type": "code",
      "source": [
        "! pip install -q tensorflow-recommenders\n",
        "! pip install -q --upgrade tensorflow-datasets\n",
        "! pip install -q scann"
      ],
      "metadata": {
        "colab": {
          "base_uri": "https://localhost:8080/"
        },
        "id": "lIhCpdSdA0Ww",
        "outputId": "e17f10f5-08a7-4d57-9d29-1641aad0183d"
      },
      "execution_count": 2,
      "outputs": [
        {
          "output_type": "stream",
          "name": "stdout",
          "text": [
            "\u001b[K     |████████████████████████████████| 89 kB 8.6 MB/s \n",
            "\u001b[K     |████████████████████████████████| 4.7 MB 35.8 MB/s \n",
            "\u001b[K     |████████████████████████████████| 10.4 MB 12.3 MB/s \n",
            "\u001b[K     |████████████████████████████████| 578.0 MB 16 kB/s \n",
            "\u001b[K     |████████████████████████████████| 438 kB 92.4 MB/s \n",
            "\u001b[K     |████████████████████████████████| 1.7 MB 72.0 MB/s \n",
            "\u001b[K     |████████████████████████████████| 5.9 MB 62.9 MB/s \n",
            "\u001b[?25h"
          ]
        }
      ]
    },
    {
      "cell_type": "code",
      "source": [
        "import os\n",
        "import pprint\n",
        "import tempfile\n",
        "\n",
        "from typing import Dict, Text\n",
        "\n",
        "import numpy as np\n",
        "import pandas as pd\n",
        "import matplotlib.pyplot as plt\n",
        "import seaborn as sns\n",
        "\n",
        "import tensorflow as tf\n",
        "import tensorflow_datasets as tfds\n",
        "from tensorflow import keras\n",
        "from tensorflow.keras import layers\n",
        "import tensorflow_recommenders as tfrs\n",
        "\n",
        "# import interactive table \n",
        "from google.colab import data_table\n",
        "data_table.enable_dataframe_formatter()\n",
        "\n",
        "# set seed\n",
        "tf.random.set_seed(42)"
      ],
      "metadata": {
        "id": "fnw0ieejA3R9"
      },
      "execution_count": 3,
      "outputs": []
    },
    {
      "cell_type": "markdown",
      "source": [
        "### Preparing the dataset"
      ],
      "metadata": {
        "id": "NwLQgvvpELbt"
      }
    },
    {
      "cell_type": "code",
      "source": [
        "# mount G-Drive and load data\n",
        "from google.colab import drive\n",
        "drive.mount('/content/drive')\n",
        "\n",
        "# load data subset \n",
        "gdrive_path = '/content/drive/MyDrive/ModelingData'\n",
        "path = os.path.join(gdrive_path, \"ratings\")\n",
        "\n",
        "ratings = tf.data.Dataset.load(path)"
      ],
      "metadata": {
        "colab": {
          "base_uri": "https://localhost:8080/"
        },
        "id": "rRcZpstIBCHO",
        "outputId": "22c05e3a-38fc-4075-c666-d7e8e2930c96"
      },
      "execution_count": 4,
      "outputs": [
        {
          "output_type": "stream",
          "name": "stdout",
          "text": [
            "Mounted at /content/drive\n"
          ]
        }
      ]
    },
    {
      "cell_type": "code",
      "source": [
        "# Select the basic features.\n",
        "\n",
        "products = ratings.map(lambda x: x['data']['product_title'])"
      ],
      "metadata": {
        "id": "QIjRO75CB-PJ"
      },
      "execution_count": 6,
      "outputs": []
    },
    {
      "cell_type": "code",
      "source": [
        "# train-test split\n",
        "tf.random.set_seed(42)\n",
        "shuffled = ratings.shuffle(92_096, seed=42, reshuffle_each_iteration=False)\n",
        "\n",
        "train = shuffled.take(92_096)\n",
        "test = shuffled.skip(92_096).take(23_024)"
      ],
      "metadata": {
        "id": "f8BJNQgUC1DK"
      },
      "execution_count": 7,
      "outputs": []
    },
    {
      "cell_type": "code",
      "source": [
        "# vocabulary to map raw feature values to embedding vectors\n",
        "product_titles = products.batch(50_000)\n",
        "unique_product_titles = np.unique(np.concatenate(list(product_titles)))\n",
        "\n",
        "unique_product_titles[:10]"
      ],
      "metadata": {
        "colab": {
          "base_uri": "https://localhost:8080/"
        },
        "id": "l3JIJg69C1-E",
        "outputId": "36ba54c1-bc92-47d1-8832-e80398d92767"
      },
      "execution_count": 8,
      "outputs": [
        {
          "output_type": "execute_result",
          "data": {
            "text/plain": [
              "array([b'! Set 7 Colors Small S Replacement Bands + 1pc Free Small Grey Band With Clasp for Fitbit FLEX Only /No tracker/ 1pc Teal (Blue/Grey) 1pc Purple / Pink 1pc Red (Tangerine) 1pc Green 1pc Slate (Blue/Grey) 1pc Black 1pc Navy (Blue) Bands Wireless Activity Bracelet Sport Wristband Fit Bit Flex Bracelet Sport Arm Band Armband',\n",
              "       b'! Small S 1pc Green 1pc Teal (Blue/Green) 1pc Red (Tangerine) Replacement Bands + 1pc Free Small Grey Band With Clasp for Fitbit FLEX Only /No tracker/ Wireless Activity Bracelet Sport Wristband Fit Bit Flex Bracelet Sport Arm Band Armband',\n",
              "       b'! Small S 1pc Teal (Blue/Green) 1pc Purple / Pink Replacement Bands + 1pc Free Small Grey Band With Clasp for Fitbit FLEX Only /No tracker/ Wireless Activity Bracelet Sport Wristband Fit Bit Flex Bracelet Sport Arm Band Armband',\n",
              "       b'\"\"\"SEASON SPECIAL\"\"\"THE ORIGINAL HEAVY DUTY BIG GRIZZLY COT-HEAVY DUTY QUALITY w/ IPHONE Holder & Drink Holder-High Quality Product-10 YEARS WARRANTY-84\\xe2\\x80\\x9d L x 32\\xe2\\x80\\x9d W x 9\\xe2\\x80\\x9d H ---A BONUS SOLAR RECHARGEABLE LED FLASHLIGHT INCLUDED WITH YOUR COT...280 LBS. MAX WEIGHT CAPACITY',\n",
              "       b'\"\"\"SEASON SPECIAL\"\"HEAVY-DUTY OASIS MARINE CHAIR W/ UNIQUE NON-SKID DESIGN-Side Table & Cup Holder-5 Years Warranty-',\n",
              "       b'\"\"SEASON SPECIAL\"\"NEW & IMPROVED!! HEAVY-DUTY OVERSIZE Oasis COOL CHAIR-TOP OF THE LINE CONSTRUCTION- 10 YEARS WARRANTY-A BONUS SOLAR RECHARGEABLE LED FLASHLIGHT INCLUDED WITH YOUR PURCHASE....BUY TWO CHAIRS AND RECEIVE A BONUS COOLER BAG!!!',\n",
              "       b'\"Biker Chick\" Gremlin Bell',\n",
              "       b'\"Bomber Irie Bomb Floating Sunglasses',\n",
              "       b'\"Candy Apple Red\" Zippo Lighter Gift Set',\n",
              "       b'\"Chasing the Lotus\" Surfing DVD'], dtype=object)"
            ]
          },
          "metadata": {},
          "execution_count": 8
        }
      ]
    },
    {
      "cell_type": "code",
      "source": [
        "# dimensionality of the query and candidate representations:\n",
        "embedding_dimension = 64"
      ],
      "metadata": {
        "id": "aSDd1BCHC9QE"
      },
      "execution_count": 9,
      "outputs": []
    },
    {
      "cell_type": "markdown",
      "source": [
        "### Implementing the model"
      ],
      "metadata": {
        "id": "AhDB5nExETmB"
      }
    },
    {
      "cell_type": "code",
      "source": [
        "product_model = tf.keras.Sequential([\n",
        "  tf.keras.layers.StringLookup(\n",
        "      vocabulary=unique_product_titles, mask_token=None),\n",
        "  tf.keras.layers.Embedding(len(unique_product_titles) + 1, embedding_dimension)\n",
        "])"
      ],
      "metadata": {
        "id": "mhbc3bfkDApK"
      },
      "execution_count": 10,
      "outputs": []
    },
    {
      "cell_type": "code",
      "source": [
        "metrics = tfrs.metrics.FactorizedTopK(\n",
        "  candidates=products.batch(128).map(product_model)\n",
        ")"
      ],
      "metadata": {
        "id": "8APMUVUWDGbh"
      },
      "execution_count": 11,
      "outputs": []
    },
    {
      "cell_type": "code",
      "source": [
        "task = tfrs.tasks.Retrieval(\n",
        "  metrics=metrics\n",
        ")"
      ],
      "metadata": {
        "id": "7bQpvV47DHH1"
      },
      "execution_count": 12,
      "outputs": []
    },
    {
      "cell_type": "code",
      "source": [
        "class AmazonModel(tfrs.Model):\n",
        "\n",
        "  def __init__(self, user_model, product_model):\n",
        "    super().__init__()\n",
        "    self.product_model: tf.keras.Model = product_model\n",
        "    self.user_model: tf.keras.Model = product_model\n",
        "    self.task: tf.keras.layers.Layer = task\n",
        "\n",
        "  def compute_loss(self, features: Dict[Text, tf.Tensor], training=False) -> tf.Tensor:\n",
        "    # We pick out the user features and pass them into the user model.\n",
        "    product_embeddings = self.product_model(features['data'][\"product_title\"])\n",
        "    # And pick out the product features and pass them into the product model,\n",
        "    # getting embeddings back.\n",
        "    positive_product_embeddings = self.product_model(features['data'][\"product_title\"])\n",
        "\n",
        "    # The task computes the loss and the metrics.\n",
        "    return self.task(product_embeddings, positive_product_embeddings)"
      ],
      "metadata": {
        "id": "T3hXFsX-DJtE"
      },
      "execution_count": 13,
      "outputs": []
    },
    {
      "cell_type": "code",
      "source": [
        "# initiate model\n",
        "item_item_model = AmazonModel(product_model, product_model)\n",
        "item_item_model.compile(optimizer=tf.keras.optimizers.Adagrad(learning_rate=0.5))"
      ],
      "metadata": {
        "id": "sDVi3bsnDofr"
      },
      "execution_count": 14,
      "outputs": []
    },
    {
      "cell_type": "markdown",
      "source": [
        "### Fitting and Evaluating the model"
      ],
      "metadata": {
        "id": "qSlGjId6Es8N"
      }
    },
    {
      "cell_type": "code",
      "source": [
        "# shuffle, batch, and cache train and test data\n",
        "cached_train = train.shuffle(100_000).batch(8192).cache()\n",
        "cached_test = test.batch(4096).cache()"
      ],
      "metadata": {
        "id": "v6uN8Xm4O-Df"
      },
      "execution_count": 15,
      "outputs": []
    },
    {
      "cell_type": "code",
      "source": [
        "# train the model\n",
        "item_item_model.fit(cached_train, epochs = 3)"
      ],
      "metadata": {
        "colab": {
          "base_uri": "https://localhost:8080/"
        },
        "id": "X5-ef2mYPHNo",
        "outputId": "6506838a-0f91-4451-beb7-9c9e20a1b4fa"
      },
      "execution_count": 16,
      "outputs": [
        {
          "output_type": "stream",
          "name": "stdout",
          "text": [
            "Epoch 1/3\n",
            "12/12 [==============================] - 334s 27s/step - factorized_top_k/top_1_categorical_accuracy: 0.2588 - factorized_top_k/top_5_categorical_accuracy: 0.2839 - factorized_top_k/top_10_categorical_accuracy: 0.3202 - factorized_top_k/top_50_categorical_accuracy: 0.3556 - factorized_top_k/top_100_categorical_accuracy: 0.3622 - loss: 42205.8849 - regularization_loss: 0.0000e+00 - total_loss: 42205.8849\n",
            "Epoch 2/3\n",
            "12/12 [==============================] - 325s 27s/step - factorized_top_k/top_1_categorical_accuracy: 0.5114 - factorized_top_k/top_5_categorical_accuracy: 0.5811 - factorized_top_k/top_10_categorical_accuracy: 0.6169 - factorized_top_k/top_50_categorical_accuracy: 0.6800 - factorized_top_k/top_100_categorical_accuracy: 0.6887 - loss: 21262.1289 - regularization_loss: 0.0000e+00 - total_loss: 21262.1289\n",
            "Epoch 3/3\n",
            "12/12 [==============================] - 324s 27s/step - factorized_top_k/top_1_categorical_accuracy: 0.6358 - factorized_top_k/top_5_categorical_accuracy: 0.9056 - factorized_top_k/top_10_categorical_accuracy: 0.9380 - factorized_top_k/top_50_categorical_accuracy: 0.9820 - factorized_top_k/top_100_categorical_accuracy: 0.9903 - loss: 7551.1036 - regularization_loss: 0.0000e+00 - total_loss: 7551.1036\n"
          ]
        },
        {
          "output_type": "execute_result",
          "data": {
            "text/plain": [
              "<keras.callbacks.History at 0x7f438c2bc490>"
            ]
          },
          "metadata": {},
          "execution_count": 16
        }
      ]
    },
    {
      "cell_type": "code",
      "source": [
        "# evaluate model\n",
        "item_item_model.evaluate(cached_test, return_dict=True)"
      ],
      "metadata": {
        "colab": {
          "base_uri": "https://localhost:8080/"
        },
        "id": "pte8CcF5PL8f",
        "outputId": "e3b394c3-7542-456f-9960-383effe9e7d3"
      },
      "execution_count": 17,
      "outputs": [
        {
          "output_type": "stream",
          "name": "stdout",
          "text": [
            "6/6 [==============================] - 94s 15s/step - factorized_top_k/top_1_categorical_accuracy: 0.4478 - factorized_top_k/top_5_categorical_accuracy: 0.5361 - factorized_top_k/top_10_categorical_accuracy: 0.5975 - factorized_top_k/top_50_categorical_accuracy: 0.6861 - factorized_top_k/top_100_categorical_accuracy: 0.7014 - loss: 9416.0248 - regularization_loss: 0.0000e+00 - total_loss: 9416.0248\n"
          ]
        },
        {
          "output_type": "execute_result",
          "data": {
            "text/plain": [
              "{'factorized_top_k/top_1_categorical_accuracy': 0.44775018095970154,\n",
              " 'factorized_top_k/top_5_categorical_accuracy': 0.5360927581787109,\n",
              " 'factorized_top_k/top_10_categorical_accuracy': 0.5974634885787964,\n",
              " 'factorized_top_k/top_50_categorical_accuracy': 0.6861101388931274,\n",
              " 'factorized_top_k/top_100_categorical_accuracy': 0.7013550996780396,\n",
              " 'loss': 6141.4345703125,\n",
              " 'regularization_loss': 0,\n",
              " 'total_loss': 6141.4345703125}"
            ]
          },
          "metadata": {},
          "execution_count": 17
        }
      ]
    },
    {
      "cell_type": "markdown",
      "source": [
        "Item-to-item model is performing much better in comparison to baseline SVD model. However, we do see that there is still might be some overfitting since model performed on train data with higher accuracy than on test data. The training accuracy for Top-10 is 93.8% vs 59.75% on testing. "
      ],
      "metadata": {
        "id": "-BS6odru-kMb"
      }
    },
    {
      "cell_type": "markdown",
      "source": [
        "### Serving and saving the model"
      ],
      "metadata": {
        "id": "UOf-5v7wFhzL"
      }
    },
    {
      "cell_type": "code",
      "source": [
        "# recommending Top-10 products for customer 52228204\n",
        "\n",
        "# Create a item_item_model that takes in raw query features, and\n",
        "index = tfrs.layers.factorized_top_k.BruteForce(item_item_model.product_model)\n",
        "# recommends products out of the entire products dataset.\n",
        "index.index_from_dataset(\n",
        "  tf.data.Dataset.zip((products.batch(100), products.batch(100).map(item_item_model.product_model)))\n",
        ")\n",
        "\n",
        "# Get recommendations.\n",
        "_, titles = index(tf.constant([\"52228204\"]))\n",
        "print(f\"Recommendations for user 52228204: {titles[0, :10]}\")"
      ],
      "metadata": {
        "colab": {
          "base_uri": "https://localhost:8080/"
        },
        "id": "7P-UL8EMPQVL",
        "outputId": "4afed65d-e672-44aa-968b-68eafe9811b3"
      },
      "execution_count": 18,
      "outputs": [
        {
          "output_type": "stream",
          "name": "stdout",
          "text": [
            "Recommendations for user 52228204: [b'ScubaPro 1mm Hybrid Shorts'\n",
            " b'ArcEnCiel Water-Resistant Bicycle Carrier Rack Pannier Bag'\n",
            " b'Grab N Go Outdoors Gotowel - Compact, Fast Drying, Super Absorbent Travel Towel That Feels As Soft As a Normal Towel! Microfiber Travel Towel Is Ideal for Camping, the Beach or the Gym.'\n",
            " b'Harmony Gear Fusion Sprayskirt' b'Harmony Gear Fusion Sprayskirt'\n",
            " b'SKS X Alpin Bicycle Hand Pump'\n",
            " b'Coleman Adjustable Comfort 3045;70 Degree Sleeping Bag'\n",
            " b'Coleman Adjustable Comfort 3045;70 Degree Sleeping Bag'\n",
            " b'Schwalbe HS 159 Bicycle Tire (26x1 3/8, 650STD, Wire Beaded, White Wall)'\n",
            " b'Eureka Timberline Outfitter 6 10\\' 3\" by 8\\' 6\" Six-Person Tent']\n"
          ]
        }
      ]
    },
    {
      "cell_type": "markdown",
      "source": [
        "There is still some repetition of recommendations, but not as extreme as in the basemodel. "
      ],
      "metadata": {
        "id": "JGTLhhsYDyen"
      }
    },
    {
      "cell_type": "code",
      "source": [
        "# model serving: saving the model to G-Drive\n",
        "\n",
        "# Export the query model.\n",
        "gdrive_path = '/content/drive/MyDrive/Models'\n",
        "path = os.path.join(gdrive_path, \"item_item_model\")\n",
        "\n",
        "# Save the index.\n",
        "tf.saved_model.save(index, path)\n",
        "\n",
        "# Load it back; can also be done in TensorFlow Serving.\n",
        "item_item_model_2 = tf.saved_model.load(path)\n",
        "\n",
        "# Pass a user id in, get top predicted movie titles back.\n",
        "scores, titles = item_item_model_2([\"52228204\"])\n",
        "\n",
        "print(f\"Recommendations: {titles[0][:3]}\")\n"
      ],
      "metadata": {
        "colab": {
          "base_uri": "https://localhost:8080/"
        },
        "id": "6wwii7quPXOb",
        "outputId": "50971457-782c-4ab5-a5c0-ca8e794495c1"
      },
      "execution_count": 19,
      "outputs": [
        {
          "output_type": "stream",
          "name": "stderr",
          "text": [
            "WARNING:absl:Found untraced functions such as query_with_exclusions while saving (showing 1 of 1). These functions will not be directly callable after loading.\n"
          ]
        },
        {
          "output_type": "stream",
          "name": "stdout",
          "text": [
            "Recommendations: [b'ScubaPro 1mm Hybrid Shorts'\n",
            " b'ArcEnCiel Water-Resistant Bicycle Carrier Rack Pannier Bag'\n",
            " b'Grab N Go Outdoors Gotowel - Compact, Fast Drying, Super Absorbent Travel Towel That Feels As Soft As a Normal Towel! Microfiber Travel Towel Is Ideal for Camping, the Beach or the Gym.']\n"
          ]
        }
      ]
    },
    {
      "cell_type": "markdown",
      "source": [
        "Adding ScaNN layer for quick retrieval and saving it to G-Drive. "
      ],
      "metadata": {
        "id": "-yWoax75-Jax"
      }
    },
    {
      "cell_type": "code",
      "source": [
        "# adding ScaNN layer\n",
        "scann_index = tfrs.layers.factorized_top_k.ScaNN(item_item_model.product_model)\n",
        "scann_index.index_from_dataset(\n",
        "  tf.data.Dataset.zip((products.batch(100), products.batch(100).map(item_item_model.product_model)))\n",
        ")"
      ],
      "metadata": {
        "colab": {
          "base_uri": "https://localhost:8080/"
        },
        "id": "mSa5LPrOPzEW",
        "outputId": "a7d5c729-9376-49d3-a15d-ca54fd3e264e"
      },
      "execution_count": 20,
      "outputs": [
        {
          "output_type": "execute_result",
          "data": {
            "text/plain": [
              "<tensorflow_recommenders.layers.factorized_top_k.ScaNN at 0x7f4377dc5310>"
            ]
          },
          "metadata": {},
          "execution_count": 20
        }
      ]
    },
    {
      "cell_type": "code",
      "source": [
        "# Get recommendations.\n",
        "_, titles = scann_index(tf.constant([\"52228204\"]))\n",
        "print(f\"Recommendations for user 52228204: {titles[0, :10]}\")"
      ],
      "metadata": {
        "colab": {
          "base_uri": "https://localhost:8080/"
        },
        "id": "NAhZyK-VP_yj",
        "outputId": "e16bb8b1-b28b-451f-8c05-f9a798a4f9da"
      },
      "execution_count": 21,
      "outputs": [
        {
          "output_type": "stream",
          "name": "stdout",
          "text": [
            "Recommendations for user 52228204: [b'ArcEnCiel Water-Resistant Bicycle Carrier Rack Pannier Bag'\n",
            " b'Tracker Trucks Dart Truck'\n",
            " b'SRAM 716 X7 6-Bolt Disc 32H 12x142mm Rear Hub'\n",
            " b'SKS X Alpin Bicycle Hand Pump' b'Ocean Kayak Scrambler XL Kayak'\n",
            " b'Harmony Gear Fusion Sprayskirt' b'Harmony Gear Fusion Sprayskirt'\n",
            " b'JanSport Big Student School Backpack (Blinded Blue Block Check)'\n",
            " b'Eureka Timberline Outfitter 6 10\\' 3\" by 8\\' 6\" Six-Person Tent'\n",
            " b'Eureka Timberline Outfitter 6 10\\' 3\" by 8\\' 6\" Six-Person Tent']\n"
          ]
        }
      ]
    },
    {
      "cell_type": "code",
      "source": [
        "# exporting ScaNN layer\n",
        "\n",
        "# Export the query model.\n",
        "gdrive_path = '/content/drive/MyDrive/Models'\n",
        "path = os.path.join(gdrive_path, \"item_item_model\")\n",
        "\n",
        "# Save the index.\n",
        "tf.saved_model.save(\n",
        "    index,\n",
        "    path,\n",
        "    options=tf.saved_model.SaveOptions(namespace_whitelist=[\"Scann\"])\n",
        ")\n",
        "\n",
        "# Load it back; can also be done in TensorFlow Serving.\n",
        "item_item_model_2 = tf.saved_model.load(path)\n",
        "\n",
        "# Pass a user id in, get top predicted movie titles back.\n",
        "scores, titles = item_item_model_2([\"52228204\"])\n",
        "\n",
        "print(f\"Recommendations: {titles[0][:10]}\")"
      ],
      "metadata": {
        "colab": {
          "base_uri": "https://localhost:8080/"
        },
        "id": "slPopwxhQEJc",
        "outputId": "07314caa-1636-4cae-87b2-5382f664cd2e"
      },
      "execution_count": 22,
      "outputs": [
        {
          "output_type": "stream",
          "name": "stderr",
          "text": [
            "WARNING:absl:Found untraced functions such as query_with_exclusions while saving (showing 1 of 1). These functions will not be directly callable after loading.\n"
          ]
        },
        {
          "output_type": "stream",
          "name": "stdout",
          "text": [
            "Recommendations: [b'ScubaPro 1mm Hybrid Shorts'\n",
            " b'ArcEnCiel Water-Resistant Bicycle Carrier Rack Pannier Bag'\n",
            " b'Grab N Go Outdoors Gotowel - Compact, Fast Drying, Super Absorbent Travel Towel That Feels As Soft As a Normal Towel! Microfiber Travel Towel Is Ideal for Camping, the Beach or the Gym.'\n",
            " b'Harmony Gear Fusion Sprayskirt' b'Harmony Gear Fusion Sprayskirt'\n",
            " b'SKS X Alpin Bicycle Hand Pump'\n",
            " b'Coleman Adjustable Comfort 3045;70 Degree Sleeping Bag'\n",
            " b'Coleman Adjustable Comfort 3045;70 Degree Sleeping Bag'\n",
            " b'Schwalbe HS 159 Bicycle Tire (26x1 3/8, 650STD, Wire Beaded, White Wall)'\n",
            " b'Eureka Timberline Outfitter 6 10\\' 3\" by 8\\' 6\" Six-Person Tent']\n"
          ]
        }
      ]
    },
    {
      "cell_type": "markdown",
      "source": [
        "Overall, we do see a significant performance improvement on item-to-item model in comparison to the base SVD model. Train accuracy for Top-5 is 90.51% and 52.45% on test for item-item model vs 77% on train and 0.03% on test for top-5 on SVD model. "
      ],
      "metadata": {
        "id": "_1w22jXW9Pfz"
      }
    }
  ]
}